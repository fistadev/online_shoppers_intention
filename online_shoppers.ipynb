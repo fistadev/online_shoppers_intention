{
 "cells": [
  {
   "cell_type": "code",
   "metadata": {
    "tags": [],
    "cell_id": "00000-4adb1af1-1090-487e-a9d7-f5668f2105db",
    "deepnote_to_be_reexecuted": false,
    "source_hash": "b9782547",
    "execution_start": 1620984312080,
    "execution_millis": 111,
    "deepnote_cell_type": "code"
   },
   "source": "#do the imports\nimport pandas as pd\nimport numpy as np\nimport seaborn as sns\n\nimport matplotlib.pyplot as plt\n\nprint('setup complete')",
   "execution_count": 94,
   "outputs": [
    {
     "name": "stdout",
     "text": "setup complete\n",
     "output_type": "stream"
    }
   ]
  },
  {
   "cell_type": "code",
   "source": "df = pd.read_csv('online_shoppers_intention.csv')",
   "metadata": {
    "tags": [],
    "cell_id": "00001-af26b287-35f3-4ab5-aa14-71c3dc5d034a",
    "deepnote_to_be_reexecuted": false,
    "source_hash": "553c5ec5",
    "execution_start": 1620977085730,
    "execution_millis": 17,
    "deepnote_cell_type": "code"
   },
   "outputs": [],
   "execution_count": 2
  },
  {
   "cell_type": "code",
   "source": "df.describe()",
   "metadata": {
    "tags": [],
    "cell_id": "00002-f8c630eb-7e23-40f6-b01a-a655e9e6a5c8",
    "deepnote_to_be_reexecuted": false,
    "source_hash": "f88152d9",
    "execution_start": 1620977096602,
    "execution_millis": 88,
    "deepnote_cell_type": "code"
   },
   "outputs": [
    {
     "output_type": "execute_result",
     "execution_count": 4,
     "data": {
      "application/vnd.deepnote.dataframe.v2+json": {
       "row_count": 8,
       "column_count": 14,
       "columns": [
        {
         "name": "Administrative",
         "dtype": "float64",
         "stats": {
          "unique_count": 7,
          "nan_count": 0,
          "min": "0.0",
          "max": "12330.0",
          "histogram": [
           {
            "bin_start": 0,
            "bin_end": 1233,
            "count": 7
           },
           {
            "bin_start": 1233,
            "bin_end": 2466,
            "count": 0
           },
           {
            "bin_start": 2466,
            "bin_end": 3699,
            "count": 0
           },
           {
            "bin_start": 3699,
            "bin_end": 4932,
            "count": 0
           },
           {
            "bin_start": 4932,
            "bin_end": 6165,
            "count": 0
           },
           {
            "bin_start": 6165,
            "bin_end": 7398,
            "count": 0
           },
           {
            "bin_start": 7398,
            "bin_end": 8631,
            "count": 0
           },
           {
            "bin_start": 8631,
            "bin_end": 9864,
            "count": 0
           },
           {
            "bin_start": 9864,
            "bin_end": 11097,
            "count": 0
           },
           {
            "bin_start": 11097,
            "bin_end": 12330,
            "count": 1
           }
          ]
         }
        },
        {
         "name": "Administrative_Duration",
         "dtype": "float64",
         "stats": {
          "unique_count": 7,
          "nan_count": 0,
          "min": "0.0",
          "max": "12330.0",
          "histogram": [
           {
            "bin_start": 0,
            "bin_end": 1233,
            "count": 6
           },
           {
            "bin_start": 1233,
            "bin_end": 2466,
            "count": 0
           },
           {
            "bin_start": 2466,
            "bin_end": 3699,
            "count": 1
           },
           {
            "bin_start": 3699,
            "bin_end": 4932,
            "count": 0
           },
           {
            "bin_start": 4932,
            "bin_end": 6165,
            "count": 0
           },
           {
            "bin_start": 6165,
            "bin_end": 7398,
            "count": 0
           },
           {
            "bin_start": 7398,
            "bin_end": 8631,
            "count": 0
           },
           {
            "bin_start": 8631,
            "bin_end": 9864,
            "count": 0
           },
           {
            "bin_start": 9864,
            "bin_end": 11097,
            "count": 0
           },
           {
            "bin_start": 11097,
            "bin_end": 12330,
            "count": 1
           }
          ]
         }
        },
        {
         "name": "Informational",
         "dtype": "float64",
         "stats": {
          "unique_count": 5,
          "nan_count": 0,
          "min": "0.0",
          "max": "12330.0",
          "histogram": [
           {
            "bin_start": 0,
            "bin_end": 1233,
            "count": 7
           },
           {
            "bin_start": 1233,
            "bin_end": 2466,
            "count": 0
           },
           {
            "bin_start": 2466,
            "bin_end": 3699,
            "count": 0
           },
           {
            "bin_start": 3699,
            "bin_end": 4932,
            "count": 0
           },
           {
            "bin_start": 4932,
            "bin_end": 6165,
            "count": 0
           },
           {
            "bin_start": 6165,
            "bin_end": 7398,
            "count": 0
           },
           {
            "bin_start": 7398,
            "bin_end": 8631,
            "count": 0
           },
           {
            "bin_start": 8631,
            "bin_end": 9864,
            "count": 0
           },
           {
            "bin_start": 9864,
            "bin_end": 11097,
            "count": 0
           },
           {
            "bin_start": 11097,
            "bin_end": 12330,
            "count": 1
           }
          ]
         }
        },
        {
         "name": "Informational_Duration",
         "dtype": "float64",
         "stats": {
          "unique_count": 5,
          "nan_count": 0,
          "min": "0.0",
          "max": "12330.0",
          "histogram": [
           {
            "bin_start": 0,
            "bin_end": 1233,
            "count": 6
           },
           {
            "bin_start": 1233,
            "bin_end": 2466,
            "count": 0
           },
           {
            "bin_start": 2466,
            "bin_end": 3699,
            "count": 1
           },
           {
            "bin_start": 3699,
            "bin_end": 4932,
            "count": 0
           },
           {
            "bin_start": 4932,
            "bin_end": 6165,
            "count": 0
           },
           {
            "bin_start": 6165,
            "bin_end": 7398,
            "count": 0
           },
           {
            "bin_start": 7398,
            "bin_end": 8631,
            "count": 0
           },
           {
            "bin_start": 8631,
            "bin_end": 9864,
            "count": 0
           },
           {
            "bin_start": 9864,
            "bin_end": 11097,
            "count": 0
           },
           {
            "bin_start": 11097,
            "bin_end": 12330,
            "count": 1
           }
          ]
         }
        },
        {
         "name": "ProductRelated",
         "dtype": "float64",
         "stats": {
          "unique_count": 8,
          "nan_count": 0,
          "min": "0.0",
          "max": "12330.0",
          "histogram": [
           {
            "bin_start": 0,
            "bin_end": 1233,
            "count": 7
           },
           {
            "bin_start": 1233,
            "bin_end": 2466,
            "count": 0
           },
           {
            "bin_start": 2466,
            "bin_end": 3699,
            "count": 0
           },
           {
            "bin_start": 3699,
            "bin_end": 4932,
            "count": 0
           },
           {
            "bin_start": 4932,
            "bin_end": 6165,
            "count": 0
           },
           {
            "bin_start": 6165,
            "bin_end": 7398,
            "count": 0
           },
           {
            "bin_start": 7398,
            "bin_end": 8631,
            "count": 0
           },
           {
            "bin_start": 8631,
            "bin_end": 9864,
            "count": 0
           },
           {
            "bin_start": 9864,
            "bin_end": 11097,
            "count": 0
           },
           {
            "bin_start": 11097,
            "bin_end": 12330,
            "count": 1
           }
          ]
         }
        },
        {
         "name": "ProductRelated_Duration",
         "dtype": "float64",
         "stats": {
          "unique_count": 8,
          "nan_count": 0,
          "min": "0.0",
          "max": "63973.52223",
          "histogram": [
           {
            "bin_start": 0,
            "bin_end": 6397.352223,
            "count": 6
           },
           {
            "bin_start": 6397.352223,
            "bin_end": 12794.704446,
            "count": 1
           },
           {
            "bin_start": 12794.704446,
            "bin_end": 19192.056668999998,
            "count": 0
           },
           {
            "bin_start": 19192.056668999998,
            "bin_end": 25589.408892,
            "count": 0
           },
           {
            "bin_start": 25589.408892,
            "bin_end": 31986.761115,
            "count": 0
           },
           {
            "bin_start": 31986.761115,
            "bin_end": 38384.113337999996,
            "count": 0
           },
           {
            "bin_start": 38384.113337999996,
            "bin_end": 44781.465561,
            "count": 0
           },
           {
            "bin_start": 44781.465561,
            "bin_end": 51178.817784,
            "count": 0
           },
           {
            "bin_start": 51178.817784,
            "bin_end": 57576.170007,
            "count": 0
           },
           {
            "bin_start": 57576.170007,
            "bin_end": 63973.52223,
            "count": 1
           }
          ]
         }
        },
        {
         "name": "BounceRates",
         "dtype": "float64",
         "stats": {
          "unique_count": 7,
          "nan_count": 0,
          "min": "0.0",
          "max": "12330.0",
          "histogram": [
           {
            "bin_start": 0,
            "bin_end": 1233,
            "count": 7
           },
           {
            "bin_start": 1233,
            "bin_end": 2466,
            "count": 0
           },
           {
            "bin_start": 2466,
            "bin_end": 3699,
            "count": 0
           },
           {
            "bin_start": 3699,
            "bin_end": 4932,
            "count": 0
           },
           {
            "bin_start": 4932,
            "bin_end": 6165,
            "count": 0
           },
           {
            "bin_start": 6165,
            "bin_end": 7398,
            "count": 0
           },
           {
            "bin_start": 7398,
            "bin_end": 8631,
            "count": 0
           },
           {
            "bin_start": 8631,
            "bin_end": 9864,
            "count": 0
           },
           {
            "bin_start": 9864,
            "bin_end": 11097,
            "count": 0
           },
           {
            "bin_start": 11097,
            "bin_end": 12330,
            "count": 1
           }
          ]
         }
        },
        {
         "name": "ExitRates",
         "dtype": "float64",
         "stats": {
          "unique_count": 8,
          "nan_count": 0,
          "min": "0.0",
          "max": "12330.0",
          "histogram": [
           {
            "bin_start": 0,
            "bin_end": 1233,
            "count": 7
           },
           {
            "bin_start": 1233,
            "bin_end": 2466,
            "count": 0
           },
           {
            "bin_start": 2466,
            "bin_end": 3699,
            "count": 0
           },
           {
            "bin_start": 3699,
            "bin_end": 4932,
            "count": 0
           },
           {
            "bin_start": 4932,
            "bin_end": 6165,
            "count": 0
           },
           {
            "bin_start": 6165,
            "bin_end": 7398,
            "count": 0
           },
           {
            "bin_start": 7398,
            "bin_end": 8631,
            "count": 0
           },
           {
            "bin_start": 8631,
            "bin_end": 9864,
            "count": 0
           },
           {
            "bin_start": 9864,
            "bin_end": 11097,
            "count": 0
           },
           {
            "bin_start": 11097,
            "bin_end": 12330,
            "count": 1
           }
          ]
         }
        },
        {
         "name": "PageValues",
         "dtype": "float64",
         "stats": {
          "unique_count": 5,
          "nan_count": 0,
          "min": "0.0",
          "max": "12330.0",
          "histogram": [
           {
            "bin_start": 0,
            "bin_end": 1233,
            "count": 7
           },
           {
            "bin_start": 1233,
            "bin_end": 2466,
            "count": 0
           },
           {
            "bin_start": 2466,
            "bin_end": 3699,
            "count": 0
           },
           {
            "bin_start": 3699,
            "bin_end": 4932,
            "count": 0
           },
           {
            "bin_start": 4932,
            "bin_end": 6165,
            "count": 0
           },
           {
            "bin_start": 6165,
            "bin_end": 7398,
            "count": 0
           },
           {
            "bin_start": 7398,
            "bin_end": 8631,
            "count": 0
           },
           {
            "bin_start": 8631,
            "bin_end": 9864,
            "count": 0
           },
           {
            "bin_start": 9864,
            "bin_end": 11097,
            "count": 0
           },
           {
            "bin_start": 11097,
            "bin_end": 12330,
            "count": 1
           }
          ]
         }
        },
        {
         "name": "SpecialDay",
         "dtype": "float64",
         "stats": {
          "unique_count": 5,
          "nan_count": 0,
          "min": "0.0",
          "max": "12330.0",
          "histogram": [
           {
            "bin_start": 0,
            "bin_end": 1233,
            "count": 7
           },
           {
            "bin_start": 1233,
            "bin_end": 2466,
            "count": 0
           },
           {
            "bin_start": 2466,
            "bin_end": 3699,
            "count": 0
           },
           {
            "bin_start": 3699,
            "bin_end": 4932,
            "count": 0
           },
           {
            "bin_start": 4932,
            "bin_end": 6165,
            "count": 0
           },
           {
            "bin_start": 6165,
            "bin_end": 7398,
            "count": 0
           },
           {
            "bin_start": 7398,
            "bin_end": 8631,
            "count": 0
           },
           {
            "bin_start": 8631,
            "bin_end": 9864,
            "count": 0
           },
           {
            "bin_start": 9864,
            "bin_end": 11097,
            "count": 0
           },
           {
            "bin_start": 11097,
            "bin_end": 12330,
            "count": 1
           }
          ]
         }
        },
        {
         "name": "OperatingSystems",
         "dtype": "float64",
         "stats": {
          "unique_count": 7,
          "nan_count": 0,
          "min": "0.911324828710665",
          "max": "12330.0",
          "histogram": [
           {
            "bin_start": 0.911324828710665,
            "bin_end": 1233.8201923458396,
            "count": 7
           },
           {
            "bin_start": 1233.8201923458396,
            "bin_end": 2466.729059862969,
            "count": 0
           },
           {
            "bin_start": 2466.729059862969,
            "bin_end": 3699.637927380098,
            "count": 0
           },
           {
            "bin_start": 3699.637927380098,
            "bin_end": 4932.546794897226,
            "count": 0
           },
           {
            "bin_start": 4932.546794897226,
            "bin_end": 6165.455662414355,
            "count": 0
           },
           {
            "bin_start": 6165.455662414355,
            "bin_end": 7398.364529931485,
            "count": 0
           },
           {
            "bin_start": 7398.364529931485,
            "bin_end": 8631.273397448613,
            "count": 0
           },
           {
            "bin_start": 8631.273397448613,
            "bin_end": 9864.182264965742,
            "count": 0
           },
           {
            "bin_start": 9864.182264965742,
            "bin_end": 11097.091132482872,
            "count": 0
           },
           {
            "bin_start": 11097.091132482872,
            "bin_end": 12330,
            "count": 1
           }
          ]
         }
        },
        {
         "name": "Browser",
         "dtype": "float64",
         "stats": {
          "unique_count": 6,
          "nan_count": 0,
          "min": "1.0",
          "max": "12330.0",
          "histogram": [
           {
            "bin_start": 1,
            "bin_end": 1233.9,
            "count": 7
           },
           {
            "bin_start": 1233.9,
            "bin_end": 2466.8,
            "count": 0
           },
           {
            "bin_start": 2466.8,
            "bin_end": 3699.7000000000003,
            "count": 0
           },
           {
            "bin_start": 3699.7000000000003,
            "bin_end": 4932.6,
            "count": 0
           },
           {
            "bin_start": 4932.6,
            "bin_end": 6165.5,
            "count": 0
           },
           {
            "bin_start": 6165.5,
            "bin_end": 7398.400000000001,
            "count": 0
           },
           {
            "bin_start": 7398.400000000001,
            "bin_end": 8631.300000000001,
            "count": 0
           },
           {
            "bin_start": 8631.300000000001,
            "bin_end": 9864.2,
            "count": 0
           },
           {
            "bin_start": 9864.2,
            "bin_end": 11097.1,
            "count": 0
           },
           {
            "bin_start": 11097.1,
            "bin_end": 12330,
            "count": 1
           }
          ]
         }
        },
        {
         "name": "Region",
         "dtype": "float64",
         "stats": {
          "unique_count": 7,
          "nan_count": 0,
          "min": "1.0",
          "max": "12330.0",
          "histogram": [
           {
            "bin_start": 1,
            "bin_end": 1233.9,
            "count": 7
           },
           {
            "bin_start": 1233.9,
            "bin_end": 2466.8,
            "count": 0
           },
           {
            "bin_start": 2466.8,
            "bin_end": 3699.7000000000003,
            "count": 0
           },
           {
            "bin_start": 3699.7000000000003,
            "bin_end": 4932.6,
            "count": 0
           },
           {
            "bin_start": 4932.6,
            "bin_end": 6165.5,
            "count": 0
           },
           {
            "bin_start": 6165.5,
            "bin_end": 7398.400000000001,
            "count": 0
           },
           {
            "bin_start": 7398.400000000001,
            "bin_end": 8631.300000000001,
            "count": 0
           },
           {
            "bin_start": 8631.300000000001,
            "bin_end": 9864.2,
            "count": 0
           },
           {
            "bin_start": 9864.2,
            "bin_end": 11097.1,
            "count": 0
           },
           {
            "bin_start": 11097.1,
            "bin_end": 12330,
            "count": 1
           }
          ]
         }
        },
        {
         "name": "TrafficType",
         "dtype": "float64",
         "stats": {
          "unique_count": 7,
          "nan_count": 0,
          "min": "1.0",
          "max": "12330.0",
          "histogram": [
           {
            "bin_start": 1,
            "bin_end": 1233.9,
            "count": 7
           },
           {
            "bin_start": 1233.9,
            "bin_end": 2466.8,
            "count": 0
           },
           {
            "bin_start": 2466.8,
            "bin_end": 3699.7000000000003,
            "count": 0
           },
           {
            "bin_start": 3699.7000000000003,
            "bin_end": 4932.6,
            "count": 0
           },
           {
            "bin_start": 4932.6,
            "bin_end": 6165.5,
            "count": 0
           },
           {
            "bin_start": 6165.5,
            "bin_end": 7398.400000000001,
            "count": 0
           },
           {
            "bin_start": 7398.400000000001,
            "bin_end": 8631.300000000001,
            "count": 0
           },
           {
            "bin_start": 8631.300000000001,
            "bin_end": 9864.2,
            "count": 0
           },
           {
            "bin_start": 9864.2,
            "bin_end": 11097.1,
            "count": 0
           },
           {
            "bin_start": 11097.1,
            "bin_end": 12330,
            "count": 1
           }
          ]
         }
        },
        {
         "name": "_deepnote_index_column",
         "dtype": "object"
        }
       ],
       "rows_top": [
        {
         "Administrative": 12330,
         "Administrative_Duration": 12330,
         "Informational": 12330,
         "Informational_Duration": 12330,
         "ProductRelated": 12330,
         "ProductRelated_Duration": 12330,
         "BounceRates": 12330,
         "ExitRates": 12330,
         "PageValues": 12330,
         "SpecialDay": 12330,
         "OperatingSystems": 12330,
         "Browser": 12330,
         "Region": 12330,
         "TrafficType": 12330,
         "_deepnote_index_column": "count"
        },
        {
         "Administrative": 2.3151662611516626,
         "Administrative_Duration": 80.81861053933592,
         "Informational": 0.5035685320356853,
         "Informational_Duration": 34.47239792772304,
         "ProductRelated": 31.731467964314678,
         "ProductRelated_Duration": 1194.7462199688268,
         "BounceRates": 0.02219138047072182,
         "ExitRates": 0.04307279776650446,
         "PageValues": 5.889257862693592,
         "SpecialDay": 0.061427412814274135,
         "OperatingSystems": 2.124006488240065,
         "Browser": 2.357096512570965,
         "Region": 3.1473641524736413,
         "TrafficType": 4.069586374695864,
         "_deepnote_index_column": "mean"
        },
        {
         "Administrative": 3.3217841061569113,
         "Administrative_Duration": 176.77910747048634,
         "Informational": 1.270156425983391,
         "Informational_Duration": 140.74929442219798,
         "ProductRelated": 44.47550330493652,
         "ProductRelated_Duration": 1913.6692878720035,
         "BounceRates": 0.048488321806260656,
         "ExitRates": 0.048596540551443565,
         "PageValues": 18.568436607806525,
         "SpecialDay": 0.19891727315262864,
         "OperatingSystems": 0.911324828710665,
         "Browser": 1.7172766755534394,
         "Region": 2.401591236743714,
         "TrafficType": 4.025169160452515,
         "_deepnote_index_column": "std"
        },
        {
         "Administrative": 0,
         "Administrative_Duration": 0,
         "Informational": 0,
         "Informational_Duration": 0,
         "ProductRelated": 0,
         "ProductRelated_Duration": 0,
         "BounceRates": 0,
         "ExitRates": 0,
         "PageValues": 0,
         "SpecialDay": 0,
         "OperatingSystems": 1,
         "Browser": 1,
         "Region": 1,
         "TrafficType": 1,
         "_deepnote_index_column": "min"
        },
        {
         "Administrative": 0,
         "Administrative_Duration": 0,
         "Informational": 0,
         "Informational_Duration": 0,
         "ProductRelated": 7,
         "ProductRelated_Duration": 184.1375,
         "BounceRates": 0,
         "ExitRates": 0.014285714,
         "PageValues": 0,
         "SpecialDay": 0,
         "OperatingSystems": 2,
         "Browser": 2,
         "Region": 1,
         "TrafficType": 2,
         "_deepnote_index_column": "25%"
        },
        {
         "Administrative": 1,
         "Administrative_Duration": 7.5,
         "Informational": 0,
         "Informational_Duration": 0,
         "ProductRelated": 18,
         "ProductRelated_Duration": 598.9369047499999,
         "BounceRates": 0.0031124675,
         "ExitRates": 0.0251564025,
         "PageValues": 0,
         "SpecialDay": 0,
         "OperatingSystems": 2,
         "Browser": 2,
         "Region": 3,
         "TrafficType": 2,
         "_deepnote_index_column": "50%"
        },
        {
         "Administrative": 4,
         "Administrative_Duration": 93.25625,
         "Informational": 0,
         "Informational_Duration": 0,
         "ProductRelated": 38,
         "ProductRelated_Duration": 1464.1572135000001,
         "BounceRates": 0.016812558499999998,
         "ExitRates": 0.05,
         "PageValues": 0,
         "SpecialDay": 0,
         "OperatingSystems": 3,
         "Browser": 2,
         "Region": 4,
         "TrafficType": 4,
         "_deepnote_index_column": "75%"
        },
        {
         "Administrative": 27,
         "Administrative_Duration": 3398.75,
         "Informational": 24,
         "Informational_Duration": 2549.375,
         "ProductRelated": 705,
         "ProductRelated_Duration": 63973.52223,
         "BounceRates": 0.2,
         "ExitRates": 0.2,
         "PageValues": 361.7637419,
         "SpecialDay": 1,
         "OperatingSystems": 8,
         "Browser": 13,
         "Region": 9,
         "TrafficType": 20,
         "_deepnote_index_column": "max"
        }
       ],
       "rows_bottom": null
      },
      "text/plain": "       Administrative  Administrative_Duration  Informational  \\\ncount    12330.000000             12330.000000   12330.000000   \nmean         2.315166                80.818611       0.503569   \nstd          3.321784               176.779107       1.270156   \nmin          0.000000                 0.000000       0.000000   \n25%          0.000000                 0.000000       0.000000   \n50%          1.000000                 7.500000       0.000000   \n75%          4.000000                93.256250       0.000000   \nmax         27.000000              3398.750000      24.000000   \n\n       Informational_Duration  ProductRelated  ProductRelated_Duration  \\\ncount            12330.000000    12330.000000             12330.000000   \nmean                34.472398       31.731468              1194.746220   \nstd                140.749294       44.475503              1913.669288   \nmin                  0.000000        0.000000                 0.000000   \n25%                  0.000000        7.000000               184.137500   \n50%                  0.000000       18.000000               598.936905   \n75%                  0.000000       38.000000              1464.157214   \nmax               2549.375000      705.000000             63973.522230   \n\n        BounceRates     ExitRates    PageValues    SpecialDay  \\\ncount  12330.000000  12330.000000  12330.000000  12330.000000   \nmean       0.022191      0.043073      5.889258      0.061427   \nstd        0.048488      0.048597     18.568437      0.198917   \nmin        0.000000      0.000000      0.000000      0.000000   \n25%        0.000000      0.014286      0.000000      0.000000   \n50%        0.003112      0.025156      0.000000      0.000000   \n75%        0.016813      0.050000      0.000000      0.000000   \nmax        0.200000      0.200000    361.763742      1.000000   \n\n       OperatingSystems       Browser        Region   TrafficType  \ncount      12330.000000  12330.000000  12330.000000  12330.000000  \nmean           2.124006      2.357097      3.147364      4.069586  \nstd            0.911325      1.717277      2.401591      4.025169  \nmin            1.000000      1.000000      1.000000      1.000000  \n25%            2.000000      2.000000      1.000000      2.000000  \n50%            2.000000      2.000000      3.000000      2.000000  \n75%            3.000000      2.000000      4.000000      4.000000  \nmax            8.000000     13.000000      9.000000     20.000000  ",
      "text/html": "<div>\n<style scoped>\n    .dataframe tbody tr th:only-of-type {\n        vertical-align: middle;\n    }\n\n    .dataframe tbody tr th {\n        vertical-align: top;\n    }\n\n    .dataframe thead th {\n        text-align: right;\n    }\n</style>\n<table border=\"1\" class=\"dataframe\">\n  <thead>\n    <tr style=\"text-align: right;\">\n      <th></th>\n      <th>Administrative</th>\n      <th>Administrative_Duration</th>\n      <th>Informational</th>\n      <th>Informational_Duration</th>\n      <th>ProductRelated</th>\n      <th>ProductRelated_Duration</th>\n      <th>BounceRates</th>\n      <th>ExitRates</th>\n      <th>PageValues</th>\n      <th>SpecialDay</th>\n      <th>OperatingSystems</th>\n      <th>Browser</th>\n      <th>Region</th>\n      <th>TrafficType</th>\n    </tr>\n  </thead>\n  <tbody>\n    <tr>\n      <th>count</th>\n      <td>12330.000000</td>\n      <td>12330.000000</td>\n      <td>12330.000000</td>\n      <td>12330.000000</td>\n      <td>12330.000000</td>\n      <td>12330.000000</td>\n      <td>12330.000000</td>\n      <td>12330.000000</td>\n      <td>12330.000000</td>\n      <td>12330.000000</td>\n      <td>12330.000000</td>\n      <td>12330.000000</td>\n      <td>12330.000000</td>\n      <td>12330.000000</td>\n    </tr>\n    <tr>\n      <th>mean</th>\n      <td>2.315166</td>\n      <td>80.818611</td>\n      <td>0.503569</td>\n      <td>34.472398</td>\n      <td>31.731468</td>\n      <td>1194.746220</td>\n      <td>0.022191</td>\n      <td>0.043073</td>\n      <td>5.889258</td>\n      <td>0.061427</td>\n      <td>2.124006</td>\n      <td>2.357097</td>\n      <td>3.147364</td>\n      <td>4.069586</td>\n    </tr>\n    <tr>\n      <th>std</th>\n      <td>3.321784</td>\n      <td>176.779107</td>\n      <td>1.270156</td>\n      <td>140.749294</td>\n      <td>44.475503</td>\n      <td>1913.669288</td>\n      <td>0.048488</td>\n      <td>0.048597</td>\n      <td>18.568437</td>\n      <td>0.198917</td>\n      <td>0.911325</td>\n      <td>1.717277</td>\n      <td>2.401591</td>\n      <td>4.025169</td>\n    </tr>\n    <tr>\n      <th>min</th>\n      <td>0.000000</td>\n      <td>0.000000</td>\n      <td>0.000000</td>\n      <td>0.000000</td>\n      <td>0.000000</td>\n      <td>0.000000</td>\n      <td>0.000000</td>\n      <td>0.000000</td>\n      <td>0.000000</td>\n      <td>0.000000</td>\n      <td>1.000000</td>\n      <td>1.000000</td>\n      <td>1.000000</td>\n      <td>1.000000</td>\n    </tr>\n    <tr>\n      <th>25%</th>\n      <td>0.000000</td>\n      <td>0.000000</td>\n      <td>0.000000</td>\n      <td>0.000000</td>\n      <td>7.000000</td>\n      <td>184.137500</td>\n      <td>0.000000</td>\n      <td>0.014286</td>\n      <td>0.000000</td>\n      <td>0.000000</td>\n      <td>2.000000</td>\n      <td>2.000000</td>\n      <td>1.000000</td>\n      <td>2.000000</td>\n    </tr>\n    <tr>\n      <th>50%</th>\n      <td>1.000000</td>\n      <td>7.500000</td>\n      <td>0.000000</td>\n      <td>0.000000</td>\n      <td>18.000000</td>\n      <td>598.936905</td>\n      <td>0.003112</td>\n      <td>0.025156</td>\n      <td>0.000000</td>\n      <td>0.000000</td>\n      <td>2.000000</td>\n      <td>2.000000</td>\n      <td>3.000000</td>\n      <td>2.000000</td>\n    </tr>\n    <tr>\n      <th>75%</th>\n      <td>4.000000</td>\n      <td>93.256250</td>\n      <td>0.000000</td>\n      <td>0.000000</td>\n      <td>38.000000</td>\n      <td>1464.157214</td>\n      <td>0.016813</td>\n      <td>0.050000</td>\n      <td>0.000000</td>\n      <td>0.000000</td>\n      <td>3.000000</td>\n      <td>2.000000</td>\n      <td>4.000000</td>\n      <td>4.000000</td>\n    </tr>\n    <tr>\n      <th>max</th>\n      <td>27.000000</td>\n      <td>3398.750000</td>\n      <td>24.000000</td>\n      <td>2549.375000</td>\n      <td>705.000000</td>\n      <td>63973.522230</td>\n      <td>0.200000</td>\n      <td>0.200000</td>\n      <td>361.763742</td>\n      <td>1.000000</td>\n      <td>8.000000</td>\n      <td>13.000000</td>\n      <td>9.000000</td>\n      <td>20.000000</td>\n    </tr>\n  </tbody>\n</table>\n</div>"
     },
     "metadata": {}
    }
   ],
   "execution_count": 4
  },
  {
   "cell_type": "code",
   "source": "df.sample(20)",
   "metadata": {
    "tags": [],
    "cell_id": "00002-7fba9bdc-92ec-419f-a926-8ac5bdc48b5f",
    "deepnote_to_be_reexecuted": false,
    "source_hash": "184fbac9",
    "execution_start": 1620978430033,
    "execution_millis": 19,
    "deepnote_cell_type": "code"
   },
   "outputs": [
    {
     "output_type": "execute_result",
     "execution_count": 11,
     "data": {
      "application/vnd.deepnote.dataframe.v2+json": {
       "row_count": 20,
       "column_count": 18,
       "columns": [
        {
         "name": "Administrative",
         "dtype": "int64",
         "stats": {
          "unique_count": 8,
          "nan_count": 0,
          "min": "0",
          "max": "9",
          "histogram": [
           {
            "bin_start": 0,
            "bin_end": 0.9,
            "count": 8
           },
           {
            "bin_start": 0.9,
            "bin_end": 1.8,
            "count": 3
           },
           {
            "bin_start": 1.8,
            "bin_end": 2.7,
            "count": 2
           },
           {
            "bin_start": 2.7,
            "bin_end": 3.6,
            "count": 2
           },
           {
            "bin_start": 3.6,
            "bin_end": 4.5,
            "count": 2
           },
           {
            "bin_start": 4.5,
            "bin_end": 5.4,
            "count": 1
           },
           {
            "bin_start": 5.4,
            "bin_end": 6.3,
            "count": 0
           },
           {
            "bin_start": 6.3,
            "bin_end": 7.2,
            "count": 1
           },
           {
            "bin_start": 7.2,
            "bin_end": 8.1,
            "count": 0
           },
           {
            "bin_start": 8.1,
            "bin_end": 9,
            "count": 1
           }
          ]
         }
        },
        {
         "name": "Administrative_Duration",
         "dtype": "float64",
         "stats": {
          "unique_count": 13,
          "nan_count": 0,
          "min": "0.0",
          "max": "598.0",
          "histogram": [
           {
            "bin_start": 0,
            "bin_end": 59.8,
            "count": 11
           },
           {
            "bin_start": 59.8,
            "bin_end": 119.6,
            "count": 5
           },
           {
            "bin_start": 119.6,
            "bin_end": 179.39999999999998,
            "count": 2
           },
           {
            "bin_start": 179.39999999999998,
            "bin_end": 239.2,
            "count": 1
           },
           {
            "bin_start": 239.2,
            "bin_end": 299,
            "count": 0
           },
           {
            "bin_start": 299,
            "bin_end": 358.79999999999995,
            "count": 0
           },
           {
            "bin_start": 358.79999999999995,
            "bin_end": 418.59999999999997,
            "count": 0
           },
           {
            "bin_start": 418.59999999999997,
            "bin_end": 478.4,
            "count": 0
           },
           {
            "bin_start": 478.4,
            "bin_end": 538.1999999999999,
            "count": 0
           },
           {
            "bin_start": 538.1999999999999,
            "bin_end": 598,
            "count": 1
           }
          ]
         }
        },
        {
         "name": "Informational",
         "dtype": "int64",
         "stats": {
          "unique_count": 4,
          "nan_count": 0,
          "min": "0",
          "max": "4",
          "histogram": [
           {
            "bin_start": 0,
            "bin_end": 0.4,
            "count": 16
           },
           {
            "bin_start": 0.4,
            "bin_end": 0.8,
            "count": 0
           },
           {
            "bin_start": 0.8,
            "bin_end": 1.2000000000000002,
            "count": 0
           },
           {
            "bin_start": 1.2000000000000002,
            "bin_end": 1.6,
            "count": 0
           },
           {
            "bin_start": 1.6,
            "bin_end": 2,
            "count": 0
           },
           {
            "bin_start": 2,
            "bin_end": 2.4000000000000004,
            "count": 1
           },
           {
            "bin_start": 2.4000000000000004,
            "bin_end": 2.8000000000000003,
            "count": 0
           },
           {
            "bin_start": 2.8000000000000003,
            "bin_end": 3.2,
            "count": 2
           },
           {
            "bin_start": 3.2,
            "bin_end": 3.6,
            "count": 0
           },
           {
            "bin_start": 3.6,
            "bin_end": 4,
            "count": 1
           }
          ]
         }
        },
        {
         "name": "Informational_Duration",
         "dtype": "float64",
         "stats": {
          "unique_count": 5,
          "nan_count": 0,
          "min": "0.0",
          "max": "216.6",
          "histogram": [
           {
            "bin_start": 0,
            "bin_end": 21.66,
            "count": 17
           },
           {
            "bin_start": 21.66,
            "bin_end": 43.32,
            "count": 0
           },
           {
            "bin_start": 43.32,
            "bin_end": 64.98,
            "count": 1
           },
           {
            "bin_start": 64.98,
            "bin_end": 86.64,
            "count": 0
           },
           {
            "bin_start": 86.64,
            "bin_end": 108.3,
            "count": 0
           },
           {
            "bin_start": 108.3,
            "bin_end": 129.96,
            "count": 0
           },
           {
            "bin_start": 129.96,
            "bin_end": 151.62,
            "count": 1
           },
           {
            "bin_start": 151.62,
            "bin_end": 173.28,
            "count": 0
           },
           {
            "bin_start": 173.28,
            "bin_end": 194.94,
            "count": 0
           },
           {
            "bin_start": 194.94,
            "bin_end": 216.6,
            "count": 1
           }
          ]
         }
        },
        {
         "name": "ProductRelated",
         "dtype": "int64",
         "stats": {
          "unique_count": 19,
          "nan_count": 0,
          "min": "1",
          "max": "229",
          "histogram": [
           {
            "bin_start": 1,
            "bin_end": 23.8,
            "count": 12
           },
           {
            "bin_start": 23.8,
            "bin_end": 46.6,
            "count": 3
           },
           {
            "bin_start": 46.6,
            "bin_end": 69.4,
            "count": 1
           },
           {
            "bin_start": 69.4,
            "bin_end": 92.2,
            "count": 2
           },
           {
            "bin_start": 92.2,
            "bin_end": 115,
            "count": 0
           },
           {
            "bin_start": 115,
            "bin_end": 137.8,
            "count": 0
           },
           {
            "bin_start": 137.8,
            "bin_end": 160.6,
            "count": 0
           },
           {
            "bin_start": 160.6,
            "bin_end": 183.4,
            "count": 1
           },
           {
            "bin_start": 183.4,
            "bin_end": 206.20000000000002,
            "count": 0
           },
           {
            "bin_start": 206.20000000000002,
            "bin_end": 229,
            "count": 1
           }
          ]
         }
        },
        {
         "name": "ProductRelated_Duration",
         "dtype": "float64",
         "stats": {
          "unique_count": 20,
          "nan_count": 0,
          "min": "0.0",
          "max": "6860.632738",
          "histogram": [
           {
            "bin_start": 0,
            "bin_end": 686.0632738,
            "count": 12
           },
           {
            "bin_start": 686.0632738,
            "bin_end": 1372.1265476,
            "count": 2
           },
           {
            "bin_start": 1372.1265476,
            "bin_end": 2058.1898214000003,
            "count": 1
           },
           {
            "bin_start": 2058.1898214000003,
            "bin_end": 2744.2530952,
            "count": 1
           },
           {
            "bin_start": 2744.2530952,
            "bin_end": 3430.316369,
            "count": 0
           },
           {
            "bin_start": 3430.316369,
            "bin_end": 4116.3796428000005,
            "count": 0
           },
           {
            "bin_start": 4116.3796428000005,
            "bin_end": 4802.4429166,
            "count": 1
           },
           {
            "bin_start": 4802.4429166,
            "bin_end": 5488.5061904,
            "count": 1
           },
           {
            "bin_start": 5488.5061904,
            "bin_end": 6174.569464200001,
            "count": 0
           },
           {
            "bin_start": 6174.569464200001,
            "bin_end": 6860.632738,
            "count": 2
           }
          ]
         }
        },
        {
         "name": "BounceRates",
         "dtype": "float64",
         "stats": {
          "unique_count": 10,
          "nan_count": 0,
          "min": "0.0",
          "max": "0.2",
          "histogram": [
           {
            "bin_start": 0,
            "bin_end": 0.02,
            "count": 17
           },
           {
            "bin_start": 0.02,
            "bin_end": 0.04,
            "count": 2
           },
           {
            "bin_start": 0.04,
            "bin_end": 0.06,
            "count": 0
           },
           {
            "bin_start": 0.06,
            "bin_end": 0.08,
            "count": 0
           },
           {
            "bin_start": 0.08,
            "bin_end": 0.1,
            "count": 0
           },
           {
            "bin_start": 0.1,
            "bin_end": 0.12,
            "count": 0
           },
           {
            "bin_start": 0.12,
            "bin_end": 0.14,
            "count": 0
           },
           {
            "bin_start": 0.14,
            "bin_end": 0.16,
            "count": 0
           },
           {
            "bin_start": 0.16,
            "bin_end": 0.18,
            "count": 0
           },
           {
            "bin_start": 0.18,
            "bin_end": 0.2,
            "count": 1
           }
          ]
         }
        },
        {
         "name": "ExitRates",
         "dtype": "float64",
         "stats": {
          "unique_count": 20,
          "nan_count": 0,
          "min": "0.001041667",
          "max": "0.2",
          "histogram": [
           {
            "bin_start": 0.001041667,
            "bin_end": 0.020937500300000002,
            "count": 8
           },
           {
            "bin_start": 0.020937500300000002,
            "bin_end": 0.04083333360000001,
            "count": 6
           },
           {
            "bin_start": 0.04083333360000001,
            "bin_end": 0.06072916690000001,
            "count": 3
           },
           {
            "bin_start": 0.06072916690000001,
            "bin_end": 0.0806250002,
            "count": 2
           },
           {
            "bin_start": 0.0806250002,
            "bin_end": 0.1005208335,
            "count": 0
           },
           {
            "bin_start": 0.1005208335,
            "bin_end": 0.12041666680000002,
            "count": 0
           },
           {
            "bin_start": 0.12041666680000002,
            "bin_end": 0.14031250010000001,
            "count": 0
           },
           {
            "bin_start": 0.14031250010000001,
            "bin_end": 0.1602083334,
            "count": 0
           },
           {
            "bin_start": 0.1602083334,
            "bin_end": 0.1801041667,
            "count": 0
           },
           {
            "bin_start": 0.1801041667,
            "bin_end": 0.2,
            "count": 1
           }
          ]
         }
        },
        {
         "name": "PageValues",
         "dtype": "float64",
         "stats": {
          "unique_count": 10,
          "nan_count": 0,
          "min": "0.0",
          "max": "246.7585902",
          "histogram": [
           {
            "bin_start": 0,
            "bin_end": 24.675859019999997,
            "count": 17
           },
           {
            "bin_start": 24.675859019999997,
            "bin_end": 49.351718039999994,
            "count": 0
           },
           {
            "bin_start": 49.351718039999994,
            "bin_end": 74.02757706,
            "count": 0
           },
           {
            "bin_start": 74.02757706,
            "bin_end": 98.70343607999999,
            "count": 1
           },
           {
            "bin_start": 98.70343607999999,
            "bin_end": 123.37929509999998,
            "count": 1
           },
           {
            "bin_start": 123.37929509999998,
            "bin_end": 148.05515412,
            "count": 0
           },
           {
            "bin_start": 148.05515412,
            "bin_end": 172.73101314,
            "count": 0
           },
           {
            "bin_start": 172.73101314,
            "bin_end": 197.40687215999998,
            "count": 0
           },
           {
            "bin_start": 197.40687215999998,
            "bin_end": 222.08273117999997,
            "count": 0
           },
           {
            "bin_start": 222.08273117999997,
            "bin_end": 246.7585902,
            "count": 1
           }
          ]
         }
        },
        {
         "name": "SpecialDay",
         "dtype": "float64",
         "stats": {
          "unique_count": 2,
          "nan_count": 0,
          "min": "0.0",
          "max": "0.4",
          "histogram": [
           {
            "bin_start": 0,
            "bin_end": 0.04,
            "count": 19
           },
           {
            "bin_start": 0.04,
            "bin_end": 0.08,
            "count": 0
           },
           {
            "bin_start": 0.08,
            "bin_end": 0.12,
            "count": 0
           },
           {
            "bin_start": 0.12,
            "bin_end": 0.16,
            "count": 0
           },
           {
            "bin_start": 0.16,
            "bin_end": 0.2,
            "count": 0
           },
           {
            "bin_start": 0.2,
            "bin_end": 0.24,
            "count": 0
           },
           {
            "bin_start": 0.24,
            "bin_end": 0.28,
            "count": 0
           },
           {
            "bin_start": 0.28,
            "bin_end": 0.32,
            "count": 0
           },
           {
            "bin_start": 0.32,
            "bin_end": 0.36,
            "count": 0
           },
           {
            "bin_start": 0.36,
            "bin_end": 0.4,
            "count": 1
           }
          ]
         }
        },
        {
         "name": "Month",
         "dtype": "object",
         "stats": {
          "unique_count": 6,
          "nan_count": 0,
          "categories": [
           {
            "name": "Mar",
            "count": 5
           },
           {
            "name": "Nov",
            "count": 5
           },
           {
            "name": "4 others",
            "count": 10
           }
          ]
         }
        },
        {
         "name": "OperatingSystems",
         "dtype": "int64",
         "stats": {
          "unique_count": 4,
          "nan_count": 0,
          "min": "1",
          "max": "4",
          "histogram": [
           {
            "bin_start": 1,
            "bin_end": 1.3,
            "count": 4
           },
           {
            "bin_start": 1.3,
            "bin_end": 1.6,
            "count": 0
           },
           {
            "bin_start": 1.6,
            "bin_end": 1.9,
            "count": 0
           },
           {
            "bin_start": 1.9,
            "bin_end": 2.2,
            "count": 9
           },
           {
            "bin_start": 2.2,
            "bin_end": 2.5,
            "count": 0
           },
           {
            "bin_start": 2.5,
            "bin_end": 2.8,
            "count": 0
           },
           {
            "bin_start": 2.8,
            "bin_end": 3.1,
            "count": 6
           },
           {
            "bin_start": 3.1,
            "bin_end": 3.4,
            "count": 0
           },
           {
            "bin_start": 3.4,
            "bin_end": 3.6999999999999997,
            "count": 0
           },
           {
            "bin_start": 3.6999999999999997,
            "bin_end": 4,
            "count": 1
           }
          ]
         }
        },
        {
         "name": "Browser",
         "dtype": "int64",
         "stats": {
          "unique_count": 4,
          "nan_count": 0,
          "min": "1",
          "max": "4",
          "histogram": [
           {
            "bin_start": 1,
            "bin_end": 1.3,
            "count": 6
           },
           {
            "bin_start": 1.3,
            "bin_end": 1.6,
            "count": 0
           },
           {
            "bin_start": 1.6,
            "bin_end": 1.9,
            "count": 0
           },
           {
            "bin_start": 1.9,
            "bin_end": 2.2,
            "count": 12
           },
           {
            "bin_start": 2.2,
            "bin_end": 2.5,
            "count": 0
           },
           {
            "bin_start": 2.5,
            "bin_end": 2.8,
            "count": 0
           },
           {
            "bin_start": 2.8,
            "bin_end": 3.1,
            "count": 1
           },
           {
            "bin_start": 3.1,
            "bin_end": 3.4,
            "count": 0
           },
           {
            "bin_start": 3.4,
            "bin_end": 3.6999999999999997,
            "count": 0
           },
           {
            "bin_start": 3.6999999999999997,
            "bin_end": 4,
            "count": 1
           }
          ]
         }
        },
        {
         "name": "Region",
         "dtype": "int64",
         "stats": {
          "unique_count": 6,
          "nan_count": 0,
          "min": "1",
          "max": "8",
          "histogram": [
           {
            "bin_start": 1,
            "bin_end": 1.7,
            "count": 12
           },
           {
            "bin_start": 1.7,
            "bin_end": 2.4,
            "count": 2
           },
           {
            "bin_start": 2.4,
            "bin_end": 3.0999999999999996,
            "count": 1
           },
           {
            "bin_start": 3.0999999999999996,
            "bin_end": 3.8,
            "count": 0
           },
           {
            "bin_start": 3.8,
            "bin_end": 4.5,
            "count": 2
           },
           {
            "bin_start": 4.5,
            "bin_end": 5.199999999999999,
            "count": 0
           },
           {
            "bin_start": 5.199999999999999,
            "bin_end": 5.8999999999999995,
            "count": 0
           },
           {
            "bin_start": 5.8999999999999995,
            "bin_end": 6.6,
            "count": 1
           },
           {
            "bin_start": 6.6,
            "bin_end": 7.3,
            "count": 0
           },
           {
            "bin_start": 7.3,
            "bin_end": 8,
            "count": 2
           }
          ]
         }
        },
        {
         "name": "TrafficType",
         "dtype": "int64",
         "stats": {
          "unique_count": 8,
          "nan_count": 0,
          "min": "2",
          "max": "20",
          "histogram": [
           {
            "bin_start": 2,
            "bin_end": 3.8,
            "count": 12
           },
           {
            "bin_start": 3.8,
            "bin_end": 5.6,
            "count": 2
           },
           {
            "bin_start": 5.6,
            "bin_end": 7.4,
            "count": 1
           },
           {
            "bin_start": 7.4,
            "bin_end": 9.2,
            "count": 2
           },
           {
            "bin_start": 9.2,
            "bin_end": 11,
            "count": 2
           },
           {
            "bin_start": 11,
            "bin_end": 12.8,
            "count": 0
           },
           {
            "bin_start": 12.8,
            "bin_end": 14.6,
            "count": 0
           },
           {
            "bin_start": 14.6,
            "bin_end": 16.4,
            "count": 0
           },
           {
            "bin_start": 16.4,
            "bin_end": 18.2,
            "count": 0
           },
           {
            "bin_start": 18.2,
            "bin_end": 20,
            "count": 1
           }
          ]
         }
        },
        {
         "name": "VisitorType",
         "dtype": "object",
         "stats": {
          "unique_count": 2,
          "nan_count": 0,
          "categories": [
           {
            "name": "Returning_Visitor",
            "count": 16
           },
           {
            "name": "New_Visitor",
            "count": 4
           }
          ]
         }
        },
        {
         "name": "Weekend",
         "dtype": "bool",
         "stats": {
          "unique_count": 2,
          "nan_count": 0,
          "categories": [
           {
            "name": "False",
            "count": 17
           },
           {
            "name": "True",
            "count": 3
           }
          ]
         }
        },
        {
         "name": "Revenue",
         "dtype": "bool",
         "stats": {
          "unique_count": 2,
          "nan_count": 0,
          "categories": [
           {
            "name": "False",
            "count": 13
           },
           {
            "name": "True",
            "count": 7
           }
          ]
         }
        },
        {
         "name": "_deepnote_index_column",
         "dtype": "int64"
        }
       ],
       "rows_top": [
        {
         "Administrative": 0,
         "Administrative_Duration": 0,
         "Informational": 0,
         "Informational_Duration": 0,
         "ProductRelated": 35,
         "ProductRelated_Duration": 897.6666667,
         "BounceRates": 0.011764706,
         "ExitRates": 0.017016807,
         "PageValues": 5.220705882,
         "SpecialDay": 0,
         "Month": "May",
         "OperatingSystems": 3,
         "Browser": 2,
         "Region": 2,
         "TrafficType": 3,
         "VisitorType": "Returning_Visitor",
         "Weekend": false,
         "Revenue": true,
         "_deepnote_index_column": 2662
        },
        {
         "Administrative": 0,
         "Administrative_Duration": 0,
         "Informational": 0,
         "Informational_Duration": 0,
         "ProductRelated": 8,
         "ProductRelated_Duration": 731,
         "BounceRates": 0,
         "ExitRates": 0.04375,
         "PageValues": 0,
         "SpecialDay": 0,
         "Month": "Mar",
         "OperatingSystems": 2,
         "Browser": 4,
         "Region": 1,
         "TrafficType": 3,
         "VisitorType": "Returning_Visitor",
         "Weekend": false,
         "Revenue": false,
         "_deepnote_index_column": 209
        },
        {
         "Administrative": 4,
         "Administrative_Duration": 158.2,
         "Informational": 0,
         "Informational_Duration": 0,
         "ProductRelated": 62,
         "ProductRelated_Duration": 4402.25,
         "BounceRates": 0,
         "ExitRates": 0.001041667,
         "PageValues": 246.7585902,
         "SpecialDay": 0,
         "Month": "Oct",
         "OperatingSystems": 4,
         "Browser": 1,
         "Region": 8,
         "TrafficType": 2,
         "VisitorType": "New_Visitor",
         "Weekend": false,
         "Revenue": false,
         "_deepnote_index_column": 5773
        },
        {
         "Administrative": 1,
         "Administrative_Duration": 24,
         "Informational": 0,
         "Informational_Duration": 0,
         "ProductRelated": 15,
         "ProductRelated_Duration": 496.75,
         "BounceRates": 0,
         "ExitRates": 0.00625,
         "PageValues": 115.48625,
         "SpecialDay": 0,
         "Month": "May",
         "OperatingSystems": 2,
         "Browser": 2,
         "Region": 3,
         "TrafficType": 2,
         "VisitorType": "Returning_Visitor",
         "Weekend": false,
         "Revenue": true,
         "_deepnote_index_column": 3190
        },
        {
         "Administrative": 2,
         "Administrative_Duration": 34,
         "Informational": 2,
         "Informational_Duration": 9,
         "ProductRelated": 174,
         "ProductRelated_Duration": 4994.24915,
         "BounceRates": 0.006025974,
         "ExitRates": 0.015842941,
         "PageValues": 0,
         "SpecialDay": 0,
         "Month": "Nov",
         "OperatingSystems": 2,
         "Browser": 2,
         "Region": 1,
         "TrafficType": 8,
         "VisitorType": "Returning_Visitor",
         "Weekend": false,
         "Revenue": false,
         "_deepnote_index_column": 8279
        },
        {
         "Administrative": 7,
         "Administrative_Duration": 598,
         "Informational": 3,
         "Informational_Duration": 144.5,
         "ProductRelated": 83,
         "ProductRelated_Duration": 6860.632738,
         "BounceRates": 0.011512297,
         "ExitRates": 0.039305682,
         "PageValues": 0,
         "SpecialDay": 0.4,
         "Month": "May",
         "OperatingSystems": 2,
         "Browser": 2,
         "Region": 1,
         "TrafficType": 2,
         "VisitorType": "Returning_Visitor",
         "Weekend": false,
         "Revenue": false,
         "_deepnote_index_column": 2103
        },
        {
         "Administrative": 0,
         "Administrative_Duration": 0,
         "Informational": 0,
         "Informational_Duration": 0,
         "ProductRelated": 13,
         "ProductRelated_Duration": 517.4,
         "BounceRates": 0,
         "ExitRates": 0.034285714,
         "PageValues": 4.856377111,
         "SpecialDay": 0,
         "Month": "Nov",
         "OperatingSystems": 2,
         "Browser": 2,
         "Region": 1,
         "TrafficType": 20,
         "VisitorType": "Returning_Visitor",
         "Weekend": true,
         "Revenue": true,
         "_deepnote_index_column": 5625
        },
        {
         "Administrative": 0,
         "Administrative_Duration": 0,
         "Informational": 0,
         "Informational_Duration": 0,
         "ProductRelated": 8,
         "ProductRelated_Duration": 196.5,
         "BounceRates": 0,
         "ExitRates": 0.025,
         "PageValues": 0,
         "SpecialDay": 0,
         "Month": "Mar",
         "OperatingSystems": 2,
         "Browser": 2,
         "Region": 1,
         "TrafficType": 10,
         "VisitorType": "Returning_Visitor",
         "Weekend": false,
         "Revenue": false,
         "_deepnote_index_column": 930
        },
        {
         "Administrative": 0,
         "Administrative_Duration": 0,
         "Informational": 0,
         "Informational_Duration": 0,
         "ProductRelated": 21,
         "ProductRelated_Duration": 607.5892857,
         "BounceRates": 0.028571429,
         "ExitRates": 0.051322751,
         "PageValues": 0,
         "SpecialDay": 0,
         "Month": "Dec",
         "OperatingSystems": 3,
         "Browser": 2,
         "Region": 1,
         "TrafficType": 2,
         "VisitorType": "Returning_Visitor",
         "Weekend": true,
         "Revenue": false,
         "_deepnote_index_column": 11680
        },
        {
         "Administrative": 3,
         "Administrative_Duration": 75,
         "Informational": 0,
         "Informational_Duration": 0,
         "ProductRelated": 3,
         "ProductRelated_Duration": 74,
         "BounceRates": 0,
         "ExitRates": 0.02,
         "PageValues": 0,
         "SpecialDay": 0,
         "Month": "May",
         "OperatingSystems": 3,
         "Browser": 2,
         "Region": 1,
         "TrafficType": 2,
         "VisitorType": "Returning_Visitor",
         "Weekend": false,
         "Revenue": false,
         "_deepnote_index_column": 4587
        },
        {
         "Administrative": 9,
         "Administrative_Duration": 175.9345238,
         "Informational": 4,
         "Informational_Duration": 54.5,
         "ProductRelated": 229,
         "ProductRelated_Duration": 6606.783899,
         "BounceRates": 0.00373444,
         "ExitRates": 0.015020196,
         "PageValues": 8.896836973,
         "SpecialDay": 0,
         "Month": "Nov",
         "OperatingSystems": 2,
         "Browser": 2,
         "Region": 1,
         "TrafficType": 2,
         "VisitorType": "Returning_Visitor",
         "Weekend": false,
         "Revenue": true,
         "_deepnote_index_column": 9368
        },
        {
         "Administrative": 1,
         "Administrative_Duration": 202,
         "Informational": 0,
         "Informational_Duration": 0,
         "ProductRelated": 2,
         "ProductRelated_Duration": 8,
         "BounceRates": 0,
         "ExitRates": 0.066666667,
         "PageValues": 0,
         "SpecialDay": 0,
         "Month": "Mar",
         "OperatingSystems": 2,
         "Browser": 2,
         "Region": 8,
         "TrafficType": 6,
         "VisitorType": "New_Visitor",
         "Weekend": false,
         "Revenue": false,
         "_deepnote_index_column": 719
        },
        {
         "Administrative": 0,
         "Administrative_Duration": 0,
         "Informational": 0,
         "Informational_Duration": 0,
         "ProductRelated": 1,
         "ProductRelated_Duration": 0,
         "BounceRates": 0.2,
         "ExitRates": 0.2,
         "PageValues": 0,
         "SpecialDay": 0,
         "Month": "Nov",
         "OperatingSystems": 1,
         "Browser": 1,
         "Region": 1,
         "TrafficType": 3,
         "VisitorType": "Returning_Visitor",
         "Weekend": false,
         "Revenue": false,
         "_deepnote_index_column": 8224
        },
        {
         "Administrative": 0,
         "Administrative_Duration": 0,
         "Informational": 0,
         "Informational_Duration": 0,
         "ProductRelated": 26,
         "ProductRelated_Duration": 586.85,
         "BounceRates": 0.015384615,
         "ExitRates": 0.031868132,
         "PageValues": 0,
         "SpecialDay": 0,
         "Month": "Dec",
         "OperatingSystems": 3,
         "Browser": 2,
         "Region": 1,
         "TrafficType": 10,
         "VisitorType": "Returning_Visitor",
         "Weekend": false,
         "Revenue": false,
         "_deepnote_index_column": 11390
        },
        {
         "Administrative": 3,
         "Administrative_Duration": 113.1,
         "Informational": 0,
         "Informational_Duration": 0,
         "ProductRelated": 17,
         "ProductRelated_Duration": 237.6066667,
         "BounceRates": 0,
         "ExitRates": 0.033333333,
         "PageValues": 94.10360412,
         "SpecialDay": 0,
         "Month": "Oct",
         "OperatingSystems": 1,
         "Browser": 1,
         "Region": 2,
         "TrafficType": 4,
         "VisitorType": "Returning_Visitor",
         "Weekend": false,
         "Revenue": true,
         "_deepnote_index_column": 6418
        },
        {
         "Administrative": 2,
         "Administrative_Duration": 98,
         "Informational": 0,
         "Informational_Duration": 0,
         "ProductRelated": 81,
         "ProductRelated_Duration": 2628,
         "BounceRates": 0.002469136,
         "ExitRates": 0.012345679,
         "PageValues": 0.602232815,
         "SpecialDay": 0,
         "Month": "Dec",
         "OperatingSystems": 2,
         "Browser": 1,
         "Region": 1,
         "TrafficType": 2,
         "VisitorType": "Returning_Visitor",
         "Weekend": false,
         "Revenue": true,
         "_deepnote_index_column": 11914
        },
        {
         "Administrative": 1,
         "Administrative_Duration": 37,
         "Informational": 0,
         "Informational_Duration": 0,
         "ProductRelated": 12,
         "ProductRelated_Duration": 663.5,
         "BounceRates": 0,
         "ExitRates": 0.016666667,
         "PageValues": 10.83431037,
         "SpecialDay": 0,
         "Month": "Mar",
         "OperatingSystems": 3,
         "Browser": 2,
         "Region": 6,
         "TrafficType": 8,
         "VisitorType": "New_Visitor",
         "Weekend": false,
         "Revenue": true,
         "_deepnote_index_column": 1029
        },
        {
         "Administrative": 4,
         "Administrative_Duration": 77.6,
         "Informational": 0,
         "Informational_Duration": 0,
         "ProductRelated": 39,
         "ProductRelated_Duration": 1477.154762,
         "BounceRates": 0.038157895,
         "ExitRates": 0.073976608,
         "PageValues": 0.775318113,
         "SpecialDay": 0,
         "Month": "Nov",
         "OperatingSystems": 1,
         "Browser": 1,
         "Region": 4,
         "TrafficType": 3,
         "VisitorType": "Returning_Visitor",
         "Weekend": false,
         "Revenue": false,
         "_deepnote_index_column": 7973
        },
        {
         "Administrative": 0,
         "Administrative_Duration": 0,
         "Informational": 0,
         "Informational_Duration": 0,
         "ProductRelated": 4,
         "ProductRelated_Duration": 173.5,
         "BounceRates": 0,
         "ExitRates": 0.05,
         "PageValues": 0,
         "SpecialDay": 0,
         "Month": "Mar",
         "OperatingSystems": 3,
         "Browser": 3,
         "Region": 4,
         "TrafficType": 3,
         "VisitorType": "Returning_Visitor",
         "Weekend": true,
         "Revenue": false,
         "_deepnote_index_column": 765
        },
        {
         "Administrative": 5,
         "Administrative_Duration": 100.6,
         "Informational": 3,
         "Informational_Duration": 216.6,
         "ProductRelated": 6,
         "ProductRelated_Duration": 432,
         "BounceRates": 0,
         "ExitRates": 0.024242424,
         "PageValues": 0,
         "SpecialDay": 0,
         "Month": "Sep",
         "OperatingSystems": 1,
         "Browser": 1,
         "Region": 1,
         "TrafficType": 5,
         "VisitorType": "New_Visitor",
         "Weekend": false,
         "Revenue": false,
         "_deepnote_index_column": 7838
        }
       ],
       "rows_bottom": null
      },
      "text/plain": "       Administrative  Administrative_Duration  Informational  \\\n2662                0                 0.000000              0   \n209                 0                 0.000000              0   \n5773                4               158.200000              0   \n3190                1                24.000000              0   \n8279                2                34.000000              2   \n2103                7               598.000000              3   \n5625                0                 0.000000              0   \n930                 0                 0.000000              0   \n11680               0                 0.000000              0   \n4587                3                75.000000              0   \n9368                9               175.934524              4   \n719                 1               202.000000              0   \n8224                0                 0.000000              0   \n11390               0                 0.000000              0   \n6418                3               113.100000              0   \n11914               2                98.000000              0   \n1029                1                37.000000              0   \n7973                4                77.600000              0   \n765                 0                 0.000000              0   \n7838                5               100.600000              3   \n\n       Informational_Duration  ProductRelated  ProductRelated_Duration  \\\n2662                      0.0              35               897.666667   \n209                       0.0               8               731.000000   \n5773                      0.0              62              4402.250000   \n3190                      0.0              15               496.750000   \n8279                      9.0             174              4994.249150   \n2103                    144.5              83              6860.632738   \n5625                      0.0              13               517.400000   \n930                       0.0               8               196.500000   \n11680                     0.0              21               607.589286   \n4587                      0.0               3                74.000000   \n9368                     54.5             229              6606.783899   \n719                       0.0               2                 8.000000   \n8224                      0.0               1                 0.000000   \n11390                     0.0              26               586.850000   \n6418                      0.0              17               237.606667   \n11914                     0.0              81              2628.000000   \n1029                      0.0              12               663.500000   \n7973                      0.0              39              1477.154762   \n765                       0.0               4               173.500000   \n7838                    216.6               6               432.000000   \n\n       BounceRates  ExitRates  PageValues  SpecialDay Month  OperatingSystems  \\\n2662      0.011765   0.017017    5.220706         0.0   May                 3   \n209       0.000000   0.043750    0.000000         0.0   Mar                 2   \n5773      0.000000   0.001042  246.758590         0.0   Oct                 4   \n3190      0.000000   0.006250  115.486250         0.0   May                 2   \n8279      0.006026   0.015843    0.000000         0.0   Nov                 2   \n2103      0.011512   0.039306    0.000000         0.4   May                 2   \n5625      0.000000   0.034286    4.856377         0.0   Nov                 2   \n930       0.000000   0.025000    0.000000         0.0   Mar                 2   \n11680     0.028571   0.051323    0.000000         0.0   Dec                 3   \n4587      0.000000   0.020000    0.000000         0.0   May                 3   \n9368      0.003734   0.015020    8.896837         0.0   Nov                 2   \n719       0.000000   0.066667    0.000000         0.0   Mar                 2   \n8224      0.200000   0.200000    0.000000         0.0   Nov                 1   \n11390     0.015385   0.031868    0.000000         0.0   Dec                 3   \n6418      0.000000   0.033333   94.103604         0.0   Oct                 1   \n11914     0.002469   0.012346    0.602233         0.0   Dec                 2   \n1029      0.000000   0.016667   10.834310         0.0   Mar                 3   \n7973      0.038158   0.073977    0.775318         0.0   Nov                 1   \n765       0.000000   0.050000    0.000000         0.0   Mar                 3   \n7838      0.000000   0.024242    0.000000         0.0   Sep                 1   \n\n       Browser  Region  TrafficType        VisitorType  Weekend  Revenue  \n2662         2       2            3  Returning_Visitor    False     True  \n209          4       1            3  Returning_Visitor    False    False  \n5773         1       8            2        New_Visitor    False    False  \n3190         2       3            2  Returning_Visitor    False     True  \n8279         2       1            8  Returning_Visitor    False    False  \n2103         2       1            2  Returning_Visitor    False    False  \n5625         2       1           20  Returning_Visitor     True     True  \n930          2       1           10  Returning_Visitor    False    False  \n11680        2       1            2  Returning_Visitor     True    False  \n4587         2       1            2  Returning_Visitor    False    False  \n9368         2       1            2  Returning_Visitor    False     True  \n719          2       8            6        New_Visitor    False    False  \n8224         1       1            3  Returning_Visitor    False    False  \n11390        2       1           10  Returning_Visitor    False    False  \n6418         1       2            4  Returning_Visitor    False     True  \n11914        1       1            2  Returning_Visitor    False     True  \n1029         2       6            8        New_Visitor    False     True  \n7973         1       4            3  Returning_Visitor    False    False  \n765          3       4            3  Returning_Visitor     True    False  \n7838         1       1            5        New_Visitor    False    False  ",
      "text/html": "<div>\n<style scoped>\n    .dataframe tbody tr th:only-of-type {\n        vertical-align: middle;\n    }\n\n    .dataframe tbody tr th {\n        vertical-align: top;\n    }\n\n    .dataframe thead th {\n        text-align: right;\n    }\n</style>\n<table border=\"1\" class=\"dataframe\">\n  <thead>\n    <tr style=\"text-align: right;\">\n      <th></th>\n      <th>Administrative</th>\n      <th>Administrative_Duration</th>\n      <th>Informational</th>\n      <th>Informational_Duration</th>\n      <th>ProductRelated</th>\n      <th>ProductRelated_Duration</th>\n      <th>BounceRates</th>\n      <th>ExitRates</th>\n      <th>PageValues</th>\n      <th>SpecialDay</th>\n      <th>Month</th>\n      <th>OperatingSystems</th>\n      <th>Browser</th>\n      <th>Region</th>\n      <th>TrafficType</th>\n      <th>VisitorType</th>\n      <th>Weekend</th>\n      <th>Revenue</th>\n    </tr>\n  </thead>\n  <tbody>\n    <tr>\n      <th>2662</th>\n      <td>0</td>\n      <td>0.000000</td>\n      <td>0</td>\n      <td>0.0</td>\n      <td>35</td>\n      <td>897.666667</td>\n      <td>0.011765</td>\n      <td>0.017017</td>\n      <td>5.220706</td>\n      <td>0.0</td>\n      <td>May</td>\n      <td>3</td>\n      <td>2</td>\n      <td>2</td>\n      <td>3</td>\n      <td>Returning_Visitor</td>\n      <td>False</td>\n      <td>True</td>\n    </tr>\n    <tr>\n      <th>209</th>\n      <td>0</td>\n      <td>0.000000</td>\n      <td>0</td>\n      <td>0.0</td>\n      <td>8</td>\n      <td>731.000000</td>\n      <td>0.000000</td>\n      <td>0.043750</td>\n      <td>0.000000</td>\n      <td>0.0</td>\n      <td>Mar</td>\n      <td>2</td>\n      <td>4</td>\n      <td>1</td>\n      <td>3</td>\n      <td>Returning_Visitor</td>\n      <td>False</td>\n      <td>False</td>\n    </tr>\n    <tr>\n      <th>5773</th>\n      <td>4</td>\n      <td>158.200000</td>\n      <td>0</td>\n      <td>0.0</td>\n      <td>62</td>\n      <td>4402.250000</td>\n      <td>0.000000</td>\n      <td>0.001042</td>\n      <td>246.758590</td>\n      <td>0.0</td>\n      <td>Oct</td>\n      <td>4</td>\n      <td>1</td>\n      <td>8</td>\n      <td>2</td>\n      <td>New_Visitor</td>\n      <td>False</td>\n      <td>False</td>\n    </tr>\n    <tr>\n      <th>3190</th>\n      <td>1</td>\n      <td>24.000000</td>\n      <td>0</td>\n      <td>0.0</td>\n      <td>15</td>\n      <td>496.750000</td>\n      <td>0.000000</td>\n      <td>0.006250</td>\n      <td>115.486250</td>\n      <td>0.0</td>\n      <td>May</td>\n      <td>2</td>\n      <td>2</td>\n      <td>3</td>\n      <td>2</td>\n      <td>Returning_Visitor</td>\n      <td>False</td>\n      <td>True</td>\n    </tr>\n    <tr>\n      <th>8279</th>\n      <td>2</td>\n      <td>34.000000</td>\n      <td>2</td>\n      <td>9.0</td>\n      <td>174</td>\n      <td>4994.249150</td>\n      <td>0.006026</td>\n      <td>0.015843</td>\n      <td>0.000000</td>\n      <td>0.0</td>\n      <td>Nov</td>\n      <td>2</td>\n      <td>2</td>\n      <td>1</td>\n      <td>8</td>\n      <td>Returning_Visitor</td>\n      <td>False</td>\n      <td>False</td>\n    </tr>\n    <tr>\n      <th>2103</th>\n      <td>7</td>\n      <td>598.000000</td>\n      <td>3</td>\n      <td>144.5</td>\n      <td>83</td>\n      <td>6860.632738</td>\n      <td>0.011512</td>\n      <td>0.039306</td>\n      <td>0.000000</td>\n      <td>0.4</td>\n      <td>May</td>\n      <td>2</td>\n      <td>2</td>\n      <td>1</td>\n      <td>2</td>\n      <td>Returning_Visitor</td>\n      <td>False</td>\n      <td>False</td>\n    </tr>\n    <tr>\n      <th>5625</th>\n      <td>0</td>\n      <td>0.000000</td>\n      <td>0</td>\n      <td>0.0</td>\n      <td>13</td>\n      <td>517.400000</td>\n      <td>0.000000</td>\n      <td>0.034286</td>\n      <td>4.856377</td>\n      <td>0.0</td>\n      <td>Nov</td>\n      <td>2</td>\n      <td>2</td>\n      <td>1</td>\n      <td>20</td>\n      <td>Returning_Visitor</td>\n      <td>True</td>\n      <td>True</td>\n    </tr>\n    <tr>\n      <th>930</th>\n      <td>0</td>\n      <td>0.000000</td>\n      <td>0</td>\n      <td>0.0</td>\n      <td>8</td>\n      <td>196.500000</td>\n      <td>0.000000</td>\n      <td>0.025000</td>\n      <td>0.000000</td>\n      <td>0.0</td>\n      <td>Mar</td>\n      <td>2</td>\n      <td>2</td>\n      <td>1</td>\n      <td>10</td>\n      <td>Returning_Visitor</td>\n      <td>False</td>\n      <td>False</td>\n    </tr>\n    <tr>\n      <th>11680</th>\n      <td>0</td>\n      <td>0.000000</td>\n      <td>0</td>\n      <td>0.0</td>\n      <td>21</td>\n      <td>607.589286</td>\n      <td>0.028571</td>\n      <td>0.051323</td>\n      <td>0.000000</td>\n      <td>0.0</td>\n      <td>Dec</td>\n      <td>3</td>\n      <td>2</td>\n      <td>1</td>\n      <td>2</td>\n      <td>Returning_Visitor</td>\n      <td>True</td>\n      <td>False</td>\n    </tr>\n    <tr>\n      <th>4587</th>\n      <td>3</td>\n      <td>75.000000</td>\n      <td>0</td>\n      <td>0.0</td>\n      <td>3</td>\n      <td>74.000000</td>\n      <td>0.000000</td>\n      <td>0.020000</td>\n      <td>0.000000</td>\n      <td>0.0</td>\n      <td>May</td>\n      <td>3</td>\n      <td>2</td>\n      <td>1</td>\n      <td>2</td>\n      <td>Returning_Visitor</td>\n      <td>False</td>\n      <td>False</td>\n    </tr>\n    <tr>\n      <th>9368</th>\n      <td>9</td>\n      <td>175.934524</td>\n      <td>4</td>\n      <td>54.5</td>\n      <td>229</td>\n      <td>6606.783899</td>\n      <td>0.003734</td>\n      <td>0.015020</td>\n      <td>8.896837</td>\n      <td>0.0</td>\n      <td>Nov</td>\n      <td>2</td>\n      <td>2</td>\n      <td>1</td>\n      <td>2</td>\n      <td>Returning_Visitor</td>\n      <td>False</td>\n      <td>True</td>\n    </tr>\n    <tr>\n      <th>719</th>\n      <td>1</td>\n      <td>202.000000</td>\n      <td>0</td>\n      <td>0.0</td>\n      <td>2</td>\n      <td>8.000000</td>\n      <td>0.000000</td>\n      <td>0.066667</td>\n      <td>0.000000</td>\n      <td>0.0</td>\n      <td>Mar</td>\n      <td>2</td>\n      <td>2</td>\n      <td>8</td>\n      <td>6</td>\n      <td>New_Visitor</td>\n      <td>False</td>\n      <td>False</td>\n    </tr>\n    <tr>\n      <th>8224</th>\n      <td>0</td>\n      <td>0.000000</td>\n      <td>0</td>\n      <td>0.0</td>\n      <td>1</td>\n      <td>0.000000</td>\n      <td>0.200000</td>\n      <td>0.200000</td>\n      <td>0.000000</td>\n      <td>0.0</td>\n      <td>Nov</td>\n      <td>1</td>\n      <td>1</td>\n      <td>1</td>\n      <td>3</td>\n      <td>Returning_Visitor</td>\n      <td>False</td>\n      <td>False</td>\n    </tr>\n    <tr>\n      <th>11390</th>\n      <td>0</td>\n      <td>0.000000</td>\n      <td>0</td>\n      <td>0.0</td>\n      <td>26</td>\n      <td>586.850000</td>\n      <td>0.015385</td>\n      <td>0.031868</td>\n      <td>0.000000</td>\n      <td>0.0</td>\n      <td>Dec</td>\n      <td>3</td>\n      <td>2</td>\n      <td>1</td>\n      <td>10</td>\n      <td>Returning_Visitor</td>\n      <td>False</td>\n      <td>False</td>\n    </tr>\n    <tr>\n      <th>6418</th>\n      <td>3</td>\n      <td>113.100000</td>\n      <td>0</td>\n      <td>0.0</td>\n      <td>17</td>\n      <td>237.606667</td>\n      <td>0.000000</td>\n      <td>0.033333</td>\n      <td>94.103604</td>\n      <td>0.0</td>\n      <td>Oct</td>\n      <td>1</td>\n      <td>1</td>\n      <td>2</td>\n      <td>4</td>\n      <td>Returning_Visitor</td>\n      <td>False</td>\n      <td>True</td>\n    </tr>\n    <tr>\n      <th>11914</th>\n      <td>2</td>\n      <td>98.000000</td>\n      <td>0</td>\n      <td>0.0</td>\n      <td>81</td>\n      <td>2628.000000</td>\n      <td>0.002469</td>\n      <td>0.012346</td>\n      <td>0.602233</td>\n      <td>0.0</td>\n      <td>Dec</td>\n      <td>2</td>\n      <td>1</td>\n      <td>1</td>\n      <td>2</td>\n      <td>Returning_Visitor</td>\n      <td>False</td>\n      <td>True</td>\n    </tr>\n    <tr>\n      <th>1029</th>\n      <td>1</td>\n      <td>37.000000</td>\n      <td>0</td>\n      <td>0.0</td>\n      <td>12</td>\n      <td>663.500000</td>\n      <td>0.000000</td>\n      <td>0.016667</td>\n      <td>10.834310</td>\n      <td>0.0</td>\n      <td>Mar</td>\n      <td>3</td>\n      <td>2</td>\n      <td>6</td>\n      <td>8</td>\n      <td>New_Visitor</td>\n      <td>False</td>\n      <td>True</td>\n    </tr>\n    <tr>\n      <th>7973</th>\n      <td>4</td>\n      <td>77.600000</td>\n      <td>0</td>\n      <td>0.0</td>\n      <td>39</td>\n      <td>1477.154762</td>\n      <td>0.038158</td>\n      <td>0.073977</td>\n      <td>0.775318</td>\n      <td>0.0</td>\n      <td>Nov</td>\n      <td>1</td>\n      <td>1</td>\n      <td>4</td>\n      <td>3</td>\n      <td>Returning_Visitor</td>\n      <td>False</td>\n      <td>False</td>\n    </tr>\n    <tr>\n      <th>765</th>\n      <td>0</td>\n      <td>0.000000</td>\n      <td>0</td>\n      <td>0.0</td>\n      <td>4</td>\n      <td>173.500000</td>\n      <td>0.000000</td>\n      <td>0.050000</td>\n      <td>0.000000</td>\n      <td>0.0</td>\n      <td>Mar</td>\n      <td>3</td>\n      <td>3</td>\n      <td>4</td>\n      <td>3</td>\n      <td>Returning_Visitor</td>\n      <td>True</td>\n      <td>False</td>\n    </tr>\n    <tr>\n      <th>7838</th>\n      <td>5</td>\n      <td>100.600000</td>\n      <td>3</td>\n      <td>216.6</td>\n      <td>6</td>\n      <td>432.000000</td>\n      <td>0.000000</td>\n      <td>0.024242</td>\n      <td>0.000000</td>\n      <td>0.0</td>\n      <td>Sep</td>\n      <td>1</td>\n      <td>1</td>\n      <td>1</td>\n      <td>5</td>\n      <td>New_Visitor</td>\n      <td>False</td>\n      <td>False</td>\n    </tr>\n  </tbody>\n</table>\n</div>"
     },
     "metadata": {}
    }
   ],
   "execution_count": 11
  },
  {
   "cell_type": "markdown",
   "source": "\"Administrative\", \"Administrative Duration\", \"Informational\", \"Informational Duration\", \"Product Related\" and \"Product Related Duration\" represent the number of different types of pages visited by the visitor in that session and total time spent in each of these page categories. The values of these features are derived from the URL information of the pages visited by the user and updated in real time when a user takes an action, e.g. moving from one page to another.\n\n The \"Bounce Rate\", \"Exit Rate\" and \"Page Value\" features represent the metrics measured by \"Google Analytics\" for each page in the e-commerce site. The value of \"Bounce Rate\" feature for a web page refers to the percentage of visitors who enter the site from that page and then leave (\"bounce\") without triggering any other requests to the analytics server during that session. The value of \"Exit Rate\" feature for a specific web page is calculated as for all pageviews to the page, the percentage that were the last in the session. The \"Page Value\" feature represents the average value for a web page that a user visited before completing an e-commerce transaction.\n\n\n The \"Special Day\" feature indicates the closeness of the site visiting time to a specific special day (e.g. Mother’s Day, Valentine's Day) in which the sessions are more likely to be finalized with transaction. The value of this attribute is determined by considering the dynamics of e-commerce such as the duration between the order date and delivery date. For example, for Valentina’s day, this value takes a nonzero value between February 2 and February 12, zero before and after this date unless it is close to another special day, and its maximum value of 1 on February 8. The dataset also includes operating system, browser, region, traffic type, visitor type as returning or new visitor, a Boolean value indicating whether the date of the visit is weekend, and month of the year.",
   "metadata": {
    "tags": [],
    "cell_id": "00004-6ab02ada-3a69-40f2-8d1c-a4d7bf1ed2fc",
    "deepnote_cell_type": "markdown"
   }
  },
  {
   "cell_type": "code",
   "source": "print(df.columns)\nprint(df.info())",
   "metadata": {
    "tags": [],
    "cell_id": "00004-cb5c521f-e363-4961-8880-69e3963dcf1c",
    "deepnote_to_be_reexecuted": false,
    "source_hash": "b5213031",
    "execution_start": 1620979013527,
    "execution_millis": 11,
    "deepnote_cell_type": "code"
   },
   "outputs": [
    {
     "name": "stdout",
     "text": "Index(['Administrative', 'Administrative_Duration', 'Informational',\n       'Informational_Duration', 'ProductRelated', 'ProductRelated_Duration',\n       'BounceRates', 'ExitRates', 'PageValues', 'SpecialDay', 'Month',\n       'OperatingSystems', 'Browser', 'Region', 'TrafficType', 'VisitorType',\n       'Weekend', 'Revenue'],\n      dtype='object')\n<class 'pandas.core.frame.DataFrame'>\nRangeIndex: 12330 entries, 0 to 12329\nData columns (total 18 columns):\n #   Column                   Non-Null Count  Dtype  \n---  ------                   --------------  -----  \n 0   Administrative           12330 non-null  int64  \n 1   Administrative_Duration  12330 non-null  float64\n 2   Informational            12330 non-null  int64  \n 3   Informational_Duration   12330 non-null  float64\n 4   ProductRelated           12330 non-null  int64  \n 5   ProductRelated_Duration  12330 non-null  float64\n 6   BounceRates              12330 non-null  float64\n 7   ExitRates                12330 non-null  float64\n 8   PageValues               12330 non-null  float64\n 9   SpecialDay               12330 non-null  float64\n 10  Month                    12330 non-null  object \n 11  OperatingSystems         12330 non-null  int64  \n 12  Browser                  12330 non-null  int64  \n 13  Region                   12330 non-null  int64  \n 14  TrafficType              12330 non-null  int64  \n 15  VisitorType              12330 non-null  object \n 16  Weekend                  12330 non-null  bool   \n 17  Revenue                  12330 non-null  bool   \ndtypes: bool(2), float64(7), int64(7), object(2)\nmemory usage: 1.5+ MB\nNone\n",
     "output_type": "stream"
    }
   ],
   "execution_count": 13
  },
  {
   "cell_type": "code",
   "source": "df.skew()",
   "metadata": {
    "tags": [],
    "cell_id": "00006-6544898e-59cb-41ca-8f10-19ec1b48d33c",
    "deepnote_to_be_reexecuted": false,
    "source_hash": "635e6371",
    "execution_start": 1620985016669,
    "execution_millis": 11,
    "deepnote_cell_type": "code"
   },
   "outputs": [
    {
     "output_type": "execute_result",
     "execution_count": 108,
     "data": {
      "text/plain": "Administrative             1.960357\nAdministrative_Duration    5.615719\nInformational              4.036464\nInformational_Duration     7.579185\nProductRelated             4.341516\nProductRelated_Duration    7.263228\nBounceRates                2.947855\nExitRates                  2.148789\nPageValues                 6.382964\nSpecialDay                 3.302667\nOperatingSystems           2.066285\nBrowser                    3.242350\nRegion                     0.983549\nTrafficType                1.962987\nVisitorType               -1.728498\nWeekend                    1.265962\nRevenue                    1.909509\ndtype: float64"
     },
     "metadata": {}
    }
   ],
   "execution_count": 108
  },
  {
   "cell_type": "code",
   "source": "for each_col in df.columns:\n    print(each_col)\n    if each_col != 'Month':\n        if each_col == 'VisitorType':\n            df[each_col] = df[each_col].replace({'Returning_Visitor':1, 'New_Visitor':0, 'Other':2})\n            df[each_col].plot.hist(bins = 10)\n            plt.show();\n        if each_col == 'Weekend':\n            df[each_col] = df[each_col].astype(int)\n            col = df[each_col]\n            col.plot.hist(bins = 10)\n            plt.show();\n        elif each_col == 'Revenue':\n            df[each_col] = df[each_col].astype(int)\n            col = df[each_col]\n            col.plot.hist(bins = 10)\n            plt.show();\n        else:\n            col = df[each_col]\n            col.plot.hist(bins = 10)\n            plt.show();\n",
   "metadata": {
    "tags": [],
    "cell_id": "00007-a45cbedc-6fed-43f4-a779-0834c212a99c",
    "deepnote_to_be_reexecuted": false,
    "source_hash": "a5ed05ba",
    "execution_start": 1620985167093,
    "execution_millis": 5319,
    "deepnote_cell_type": "code"
   },
   "outputs": [
    {
     "name": "stdout",
     "text": "Administrative\n",
     "output_type": "stream"
    },
    {
     "data": {
      "text/plain": "<Figure size 432x288 with 1 Axes>",
      "image/png": "[encoded data removed]"
     },
     "metadata": {
      "image/png": {
       "width": 403,
       "height": 251
      }
     },
     "output_type": "display_data"
    },
    {
     "name": "stdout",
     "text": "Administrative_Duration\n",
     "output_type": "stream"
    },
    {
     "data": {
      "text/plain": "<Figure size 432x288 with 1 Axes>",
      "image/png": "[encoded data removed]"
     },
     "metadata": {
      "image/png": {
       "width": 418,
       "height": 251
      }
     },
     "output_type": "display_data"
    },
    {
     "name": "stdout",
     "text": "Informational\n",
     "output_type": "stream"
    },
    {
     "data": {
      "text/plain": "<Figure size 432x288 with 1 Axes>",
      "image/png": "[encoded data removed]"
     },
     "metadata": {
      "image/png": {
       "width": 415,
       "height": 254
      }
     },
     "output_type": "display_data"
    },
    {
     "name": "stdout",
     "text": "Informational_Duration\n",
     "output_type": "stream"
    },
    {
     "data": {
      "text/plain": "<Figure size 432x288 with 1 Axes>",
      "image/png": "[encoded data removed]"
     },
     "metadata": {
      "image/png": {
       "width": 410,
       "height": 251
      }
     },
     "output_type": "display_data"
    },
    {
     "name": "stdout",
     "text": "ProductRelated\n",
     "output_type": "stream"
    },
    {
     "data": {
      "text/plain": "<Figure size 432x288 with 1 Axes>",
      "image/png": "[encoded data removed]"
     },
     "metadata": {
      "image/png": {
       "width": 410,
       "height": 251
      }
     },
     "output_type": "display_data"
    },
    {
     "name": "stdout",
     "text": "ProductRelated_Duration\n",
     "output_type": "stream"
    },
    {
     "data": {
      "text/plain": "<Figure size 432x288 with 1 Axes>",
      "image/png": "[encoded data removed]"
     },
     "metadata": {
      "image/png": {
       "width": 410,
       "height": 251
      }
     },
     "output_type": "display_data"
    },
    {
     "name": "stdout",
     "text": "BounceRates\n",
     "output_type": "stream"
    },
    {
     "data": {
      "text/plain": "<Figure size 432x288 with 1 Axes>",
      "image/png": "[encoded data removed]"
     },
     "metadata": {
      "image/png": {
       "width": 411,
       "height": 254
      }
     },
     "output_type": "display_data"
    },
    {
     "name": "stdout",
     "text": "ExitRates\n",
     "output_type": "stream"
    },
    {
     "data": {
      "text/plain": "<Figure size 432x288 with 1 Axes>",
      "image/png": "[encoded data removed]"
     },
     "metadata": {
      "image/png": {
       "width": 404,
       "height": 251
      }
     },
     "output_type": "display_data"
    },
    {
     "name": "stdout",
     "text": "PageValues\n",
     "output_type": "stream"
    },
    {
     "data": {
      "text/plain": "<Figure size 432x288 with 1 Axes>",
      "image/png": "[encoded data removed]"
     },
     "metadata": {
      "image/png": {
       "width": 410,
       "height": 251
      }
     },
     "output_type": "display_data"
    },
    {
     "name": "stdout",
     "text": "SpecialDay\n",
     "output_type": "stream"
    },
    {
     "data": {
      "text/plain": "<Figure size 432x288 with 1 Axes>",
      "image/png": "[encoded data removed]"
     },
     "metadata": {
      "image/png": {
       "width": 410,
       "height": 251
      }
     },
     "output_type": "display_data"
    },
    {
     "name": "stdout",
     "text": "Month\nOperatingSystems\n",
     "output_type": "stream"
    },
    {
     "data": {
      "text/plain": "<Figure size 432x288 with 1 Axes>",
      "image/png": "[encoded data removed]"
     },
     "metadata": {
      "image/png": {
       "width": 403,
       "height": 251
      }
     },
     "output_type": "display_data"
    },
    {
     "name": "stdout",
     "text": "Browser\n",
     "output_type": "stream"
    },
    {
     "data": {
      "text/plain": "<Figure size 432x288 with 1 Axes>",
      "image/png": "[encoded data removed]"
     },
     "metadata": {
      "image/png": {
       "width": 410,
       "height": 251
      }
     },
     "output_type": "display_data"
    },
    {
     "name": "stdout",
     "text": "Region\n",
     "output_type": "stream"
    },
    {
     "data": {
      "text/plain": "<Figure size 432x288 with 1 Axes>",
      "image/png": "[encoded data removed]"
     },
     "metadata": {
      "image/png": {
       "width": 403,
       "height": 254
      }
     },
     "output_type": "display_data"
    },
    {
     "name": "stdout",
     "text": "TrafficType\n",
     "output_type": "stream"
    },
    {
     "data": {
      "text/plain": "<Figure size 432x288 with 1 Axes>",
      "image/png": "[encoded data removed]"
     },
     "metadata": {
      "image/png": {
       "width": 403,
       "height": 251
      }
     },
     "output_type": "display_data"
    },
    {
     "name": "stdout",
     "text": "VisitorType\n",
     "output_type": "stream"
    },
    {
     "data": {
      "text/plain": "<Figure size 432x288 with 1 Axes>",
      "image/png": "[encoded data removed]"
     },
     "metadata": {
      "image/png": {
       "width": 410,
       "height": 251
      }
     },
     "output_type": "display_data"
    },
    {
     "data": {
      "text/plain": "<Figure size 432x288 with 1 Axes>",
      "image/png": "[encoded data removed]"
     },
     "metadata": {
      "image/png": {
       "width": 410,
       "height": 251
      }
     },
     "output_type": "display_data"
    },
    {
     "name": "stdout",
     "text": "Weekend\n",
     "output_type": "stream"
    },
    {
     "data": {
      "text/plain": "<Figure size 432x288 with 1 Axes>",
      "image/png": "[encoded data removed]"
     },
     "metadata": {
      "image/png": {
       "width": 403,
       "height": 251
      }
     },
     "output_type": "display_data"
    },
    {
     "name": "stdout",
     "text": "Revenue\n",
     "output_type": "stream"
    },
    {
     "data": {
      "text/plain": "<Figure size 432x288 with 1 Axes>",
      "image/png": "[encoded data removed]"
     },
     "metadata": {
      "image/png": {
       "width": 410,
       "height": 251
      }
     },
     "output_type": "display_data"
    }
   ],
   "execution_count": 111
  },
  {
   "cell_type": "code",
   "source": "",
   "metadata": {
    "tags": [],
    "cell_id": "00007-a883189a-97ab-44a9-94d3-7a724a4f9fef",
    "deepnote_to_be_reexecuted": false,
    "source_hash": "b623e53d",
    "execution_start": 1620982231304,
    "execution_millis": 1,
    "deepnote_cell_type": "code"
   },
   "outputs": [],
   "execution_count": 66
  },
  {
   "cell_type": "code",
   "source": "y = df.Revenue\nX = df.drop(['Revenue'], axis = 1)\n\n\nX_train, X_valid, y_train, y_valid = train_test_split(X, y,\n                                                      train_size=0.8, test_size=0.2,\n                                                      random_state=0)",
   "metadata": {
    "tags": [],
    "cell_id": "00009-e8312787-9177-4bb6-b5b0-8fbdae64f696",
    "deepnote_to_be_reexecuted": false,
    "source_hash": "eefd74ac",
    "execution_start": 1620982306345,
    "execution_millis": 6,
    "deepnote_cell_type": "code"
   },
   "outputs": [],
   "execution_count": 69
  },
  {
   "cell_type": "code",
   "source": "X_train.head()",
   "metadata": {
    "tags": [],
    "cell_id": "00012-192aab4e-aacd-400c-b6a3-894671c95a64",
    "deepnote_to_be_reexecuted": false,
    "source_hash": "7c234d23",
    "execution_start": 1620982312254,
    "execution_millis": 32,
    "deepnote_cell_type": "code"
   },
   "outputs": [
    {
     "output_type": "execute_result",
     "execution_count": 70,
     "data": {
      "application/vnd.deepnote.dataframe.v2+json": {
       "row_count": 5,
       "column_count": 17,
       "columns": [
        {
         "name": "Administrative",
         "dtype": "int64",
         "stats": {
          "unique_count": 4,
          "nan_count": 0,
          "min": "0",
          "max": "7",
          "histogram": [
           {
            "bin_start": 0,
            "bin_end": 0.7,
            "count": 2
           },
           {
            "bin_start": 0.7,
            "bin_end": 1.4,
            "count": 0
           },
           {
            "bin_start": 1.4,
            "bin_end": 2.0999999999999996,
            "count": 0
           },
           {
            "bin_start": 2.0999999999999996,
            "bin_end": 2.8,
            "count": 0
           },
           {
            "bin_start": 2.8,
            "bin_end": 3.5,
            "count": 0
           },
           {
            "bin_start": 3.5,
            "bin_end": 4.199999999999999,
            "count": 0
           },
           {
            "bin_start": 4.199999999999999,
            "bin_end": 4.8999999999999995,
            "count": 0
           },
           {
            "bin_start": 4.8999999999999995,
            "bin_end": 5.6,
            "count": 1
           },
           {
            "bin_start": 5.6,
            "bin_end": 6.3,
            "count": 1
           },
           {
            "bin_start": 6.3,
            "bin_end": 7,
            "count": 1
           }
          ]
         }
        },
        {
         "name": "Administrative_Duration",
         "dtype": "float64",
         "stats": {
          "unique_count": 4,
          "nan_count": 0,
          "min": "0.0",
          "max": "170.5",
          "histogram": [
           {
            "bin_start": 0,
            "bin_end": 17.05,
            "count": 2
           },
           {
            "bin_start": 17.05,
            "bin_end": 34.1,
            "count": 0
           },
           {
            "bin_start": 34.1,
            "bin_end": 51.150000000000006,
            "count": 0
           },
           {
            "bin_start": 51.150000000000006,
            "bin_end": 68.2,
            "count": 0
           },
           {
            "bin_start": 68.2,
            "bin_end": 85.25,
            "count": 0
           },
           {
            "bin_start": 85.25,
            "bin_end": 102.30000000000001,
            "count": 2
           },
           {
            "bin_start": 102.30000000000001,
            "bin_end": 119.35000000000001,
            "count": 0
           },
           {
            "bin_start": 119.35000000000001,
            "bin_end": 136.4,
            "count": 0
           },
           {
            "bin_start": 136.4,
            "bin_end": 153.45000000000002,
            "count": 0
           },
           {
            "bin_start": 153.45000000000002,
            "bin_end": 170.5,
            "count": 1
           }
          ]
         }
        },
        {
         "name": "Informational",
         "dtype": "int64",
         "stats": {
          "unique_count": 4,
          "nan_count": 0,
          "min": "0",
          "max": "3",
          "histogram": [
           {
            "bin_start": 0,
            "bin_end": 0.3,
            "count": 2
           },
           {
            "bin_start": 0.3,
            "bin_end": 0.6,
            "count": 0
           },
           {
            "bin_start": 0.6,
            "bin_end": 0.8999999999999999,
            "count": 0
           },
           {
            "bin_start": 0.8999999999999999,
            "bin_end": 1.2,
            "count": 1
           },
           {
            "bin_start": 1.2,
            "bin_end": 1.5,
            "count": 0
           },
           {
            "bin_start": 1.5,
            "bin_end": 1.7999999999999998,
            "count": 0
           },
           {
            "bin_start": 1.7999999999999998,
            "bin_end": 2.1,
            "count": 1
           },
           {
            "bin_start": 2.1,
            "bin_end": 2.4,
            "count": 0
           },
           {
            "bin_start": 2.4,
            "bin_end": 2.6999999999999997,
            "count": 0
           },
           {
            "bin_start": 2.6999999999999997,
            "bin_end": 3,
            "count": 1
           }
          ]
         }
        },
        {
         "name": "Informational_Duration",
         "dtype": "float64",
         "stats": {
          "unique_count": 4,
          "nan_count": 0,
          "min": "0.0",
          "max": "232.8",
          "histogram": [
           {
            "bin_start": 0,
            "bin_end": 23.28,
            "count": 2
           },
           {
            "bin_start": 23.28,
            "bin_end": 46.56,
            "count": 1
           },
           {
            "bin_start": 46.56,
            "bin_end": 69.84,
            "count": 0
           },
           {
            "bin_start": 69.84,
            "bin_end": 93.12,
            "count": 0
           },
           {
            "bin_start": 93.12,
            "bin_end": 116.4,
            "count": 0
           },
           {
            "bin_start": 116.4,
            "bin_end": 139.68,
            "count": 0
           },
           {
            "bin_start": 139.68,
            "bin_end": 162.96,
            "count": 1
           },
           {
            "bin_start": 162.96,
            "bin_end": 186.24,
            "count": 0
           },
           {
            "bin_start": 186.24,
            "bin_end": 209.52,
            "count": 0
           },
           {
            "bin_start": 209.52,
            "bin_end": 232.8,
            "count": 1
           }
          ]
         }
        },
        {
         "name": "ProductRelated",
         "dtype": "int64",
         "stats": {
          "unique_count": 4,
          "nan_count": 0,
          "min": "10",
          "max": "246",
          "histogram": [
           {
            "bin_start": 10,
            "bin_end": 33.6,
            "count": 3
           },
           {
            "bin_start": 33.6,
            "bin_end": 57.2,
            "count": 0
           },
           {
            "bin_start": 57.2,
            "bin_end": 80.80000000000001,
            "count": 0
           },
           {
            "bin_start": 80.80000000000001,
            "bin_end": 104.4,
            "count": 0
           },
           {
            "bin_start": 104.4,
            "bin_end": 128,
            "count": 1
           },
           {
            "bin_start": 128,
            "bin_end": 151.60000000000002,
            "count": 0
           },
           {
            "bin_start": 151.60000000000002,
            "bin_end": 175.20000000000002,
            "count": 0
           },
           {
            "bin_start": 175.20000000000002,
            "bin_end": 198.8,
            "count": 0
           },
           {
            "bin_start": 198.8,
            "bin_end": 222.4,
            "count": 0
           },
           {
            "bin_start": 222.4,
            "bin_end": 246,
            "count": 1
           }
          ]
         }
        },
        {
         "name": "ProductRelated_Duration",
         "dtype": "float64",
         "stats": {
          "unique_count": 5,
          "nan_count": 0,
          "min": "311.0",
          "max": "9227.371429",
          "histogram": [
           {
            "bin_start": 311,
            "bin_end": 1202.6371429,
            "count": 3
           },
           {
            "bin_start": 1202.6371429,
            "bin_end": 2094.2742858,
            "count": 0
           },
           {
            "bin_start": 2094.2742858,
            "bin_end": 2985.9114287,
            "count": 0
           },
           {
            "bin_start": 2985.9114287,
            "bin_end": 3877.5485716000003,
            "count": 1
           },
           {
            "bin_start": 3877.5485716000003,
            "bin_end": 4769.1857145,
            "count": 0
           },
           {
            "bin_start": 4769.1857145,
            "bin_end": 5660.8228574,
            "count": 0
           },
           {
            "bin_start": 5660.8228574,
            "bin_end": 6552.4600003000005,
            "count": 0
           },
           {
            "bin_start": 6552.4600003000005,
            "bin_end": 7444.097143200001,
            "count": 0
           },
           {
            "bin_start": 7444.097143200001,
            "bin_end": 8335.7342861,
            "count": 0
           },
           {
            "bin_start": 8335.7342861,
            "bin_end": 9227.371429,
            "count": 1
           }
          ]
         }
        },
        {
         "name": "BounceRates",
         "dtype": "float64",
         "stats": {
          "unique_count": 4,
          "nan_count": 0,
          "min": "0.0",
          "max": "0.018181818",
          "histogram": [
           {
            "bin_start": 0,
            "bin_end": 0.0018181818,
            "count": 2
           },
           {
            "bin_start": 0.0018181818,
            "bin_end": 0.0036363636,
            "count": 1
           },
           {
            "bin_start": 0.0036363636,
            "bin_end": 0.0054545454,
            "count": 0
           },
           {
            "bin_start": 0.0054545454,
            "bin_end": 0.0072727272,
            "count": 1
           },
           {
            "bin_start": 0.0072727272,
            "bin_end": 0.009090909,
            "count": 0
           },
           {
            "bin_start": 0.009090909,
            "bin_end": 0.0109090908,
            "count": 0
           },
           {
            "bin_start": 0.0109090908,
            "bin_end": 0.012727272599999999,
            "count": 0
           },
           {
            "bin_start": 0.012727272599999999,
            "bin_end": 0.0145454544,
            "count": 0
           },
           {
            "bin_start": 0.0145454544,
            "bin_end": 0.0163636362,
            "count": 0
           },
           {
            "bin_start": 0.0163636362,
            "bin_end": 0.018181818,
            "count": 1
           }
          ]
         }
        },
        {
         "name": "ExitRates",
         "dtype": "float64",
         "stats": {
          "unique_count": 5,
          "nan_count": 0,
          "min": "0.015384615",
          "max": "0.036363636",
          "histogram": [
           {
            "bin_start": 0.015384615,
            "bin_end": 0.0174825171,
            "count": 1
           },
           {
            "bin_start": 0.0174825171,
            "bin_end": 0.0195804192,
            "count": 1
           },
           {
            "bin_start": 0.0195804192,
            "bin_end": 0.021678321299999997,
            "count": 1
           },
           {
            "bin_start": 0.021678321299999997,
            "bin_end": 0.023776223399999998,
            "count": 0
           },
           {
            "bin_start": 0.023776223399999998,
            "bin_end": 0.025874125499999998,
            "count": 1
           },
           {
            "bin_start": 0.025874125499999998,
            "bin_end": 0.027972027599999998,
            "count": 0
           },
           {
            "bin_start": 0.027972027599999998,
            "bin_end": 0.030069929699999998,
            "count": 0
           },
           {
            "bin_start": 0.030069929699999998,
            "bin_end": 0.0321678318,
            "count": 0
           },
           {
            "bin_start": 0.0321678318,
            "bin_end": 0.0342657339,
            "count": 0
           },
           {
            "bin_start": 0.0342657339,
            "bin_end": 0.036363636,
            "count": 1
           }
          ]
         }
        },
        {
         "name": "PageValues",
         "dtype": "float64",
         "stats": {
          "unique_count": 1,
          "nan_count": 0,
          "min": "0.0",
          "max": "0.0",
          "histogram": [
           {
            "bin_start": -0.5,
            "bin_end": -0.4,
            "count": 0
           },
           {
            "bin_start": -0.4,
            "bin_end": -0.3,
            "count": 0
           },
           {
            "bin_start": -0.3,
            "bin_end": -0.19999999999999996,
            "count": 0
           },
           {
            "bin_start": -0.19999999999999996,
            "bin_end": -0.09999999999999998,
            "count": 0
           },
           {
            "bin_start": -0.09999999999999998,
            "bin_end": 0,
            "count": 0
           },
           {
            "bin_start": 0,
            "bin_end": 0.10000000000000009,
            "count": 5
           },
           {
            "bin_start": 0.10000000000000009,
            "bin_end": 0.20000000000000007,
            "count": 0
           },
           {
            "bin_start": 0.20000000000000007,
            "bin_end": 0.30000000000000004,
            "count": 0
           },
           {
            "bin_start": 0.30000000000000004,
            "bin_end": 0.4,
            "count": 0
           },
           {
            "bin_start": 0.4,
            "bin_end": 0.5,
            "count": 0
           }
          ]
         }
        },
        {
         "name": "SpecialDay",
         "dtype": "float64",
         "stats": {
          "unique_count": 1,
          "nan_count": 0,
          "min": "0.0",
          "max": "0.0",
          "histogram": [
           {
            "bin_start": -0.5,
            "bin_end": -0.4,
            "count": 0
           },
           {
            "bin_start": -0.4,
            "bin_end": -0.3,
            "count": 0
           },
           {
            "bin_start": -0.3,
            "bin_end": -0.19999999999999996,
            "count": 0
           },
           {
            "bin_start": -0.19999999999999996,
            "bin_end": -0.09999999999999998,
            "count": 0
           },
           {
            "bin_start": -0.09999999999999998,
            "bin_end": 0,
            "count": 0
           },
           {
            "bin_start": 0,
            "bin_end": 0.10000000000000009,
            "count": 5
           },
           {
            "bin_start": 0.10000000000000009,
            "bin_end": 0.20000000000000007,
            "count": 0
           },
           {
            "bin_start": 0.20000000000000007,
            "bin_end": 0.30000000000000004,
            "count": 0
           },
           {
            "bin_start": 0.30000000000000004,
            "bin_end": 0.4,
            "count": 0
           },
           {
            "bin_start": 0.4,
            "bin_end": 0.5,
            "count": 0
           }
          ]
         }
        },
        {
         "name": "Month",
         "dtype": "object",
         "stats": {
          "unique_count": 4,
          "nan_count": 0,
          "categories": [
           {
            "name": "May",
            "count": 2
           },
           {
            "name": "Dec",
            "count": 1
           },
           {
            "name": "2 others",
            "count": 2
           }
          ]
         }
        },
        {
         "name": "OperatingSystems",
         "dtype": "int64",
         "stats": {
          "unique_count": 3,
          "nan_count": 0,
          "min": "1",
          "max": "4",
          "histogram": [
           {
            "bin_start": 1,
            "bin_end": 1.3,
            "count": 1
           },
           {
            "bin_start": 1.3,
            "bin_end": 1.6,
            "count": 0
           },
           {
            "bin_start": 1.6,
            "bin_end": 1.9,
            "count": 0
           },
           {
            "bin_start": 1.9,
            "bin_end": 2.2,
            "count": 3
           },
           {
            "bin_start": 2.2,
            "bin_end": 2.5,
            "count": 0
           },
           {
            "bin_start": 2.5,
            "bin_end": 2.8,
            "count": 0
           },
           {
            "bin_start": 2.8,
            "bin_end": 3.1,
            "count": 0
           },
           {
            "bin_start": 3.1,
            "bin_end": 3.4,
            "count": 0
           },
           {
            "bin_start": 3.4,
            "bin_end": 3.6999999999999997,
            "count": 0
           },
           {
            "bin_start": 3.6999999999999997,
            "bin_end": 4,
            "count": 1
           }
          ]
         }
        },
        {
         "name": "Browser",
         "dtype": "int64",
         "stats": {
          "unique_count": 3,
          "nan_count": 0,
          "min": "1",
          "max": "10",
          "histogram": [
           {
            "bin_start": 1,
            "bin_end": 1.9,
            "count": 1
           },
           {
            "bin_start": 1.9,
            "bin_end": 2.8,
            "count": 2
           },
           {
            "bin_start": 2.8,
            "bin_end": 3.7,
            "count": 0
           },
           {
            "bin_start": 3.7,
            "bin_end": 4.6,
            "count": 0
           },
           {
            "bin_start": 4.6,
            "bin_end": 5.5,
            "count": 0
           },
           {
            "bin_start": 5.5,
            "bin_end": 6.4,
            "count": 0
           },
           {
            "bin_start": 6.4,
            "bin_end": 7.3,
            "count": 0
           },
           {
            "bin_start": 7.3,
            "bin_end": 8.2,
            "count": 0
           },
           {
            "bin_start": 8.2,
            "bin_end": 9.1,
            "count": 0
           },
           {
            "bin_start": 9.1,
            "bin_end": 10,
            "count": 2
           }
          ]
         }
        },
        {
         "name": "Region",
         "dtype": "int64",
         "stats": {
          "unique_count": 5,
          "nan_count": 0,
          "min": "1",
          "max": "7",
          "histogram": [
           {
            "bin_start": 1,
            "bin_end": 1.6,
            "count": 1
           },
           {
            "bin_start": 1.6,
            "bin_end": 2.2,
            "count": 1
           },
           {
            "bin_start": 2.2,
            "bin_end": 2.8,
            "count": 0
           },
           {
            "bin_start": 2.8,
            "bin_end": 3.4,
            "count": 1
           },
           {
            "bin_start": 3.4,
            "bin_end": 4,
            "count": 0
           },
           {
            "bin_start": 4,
            "bin_end": 4.6,
            "count": 1
           },
           {
            "bin_start": 4.6,
            "bin_end": 5.2,
            "count": 0
           },
           {
            "bin_start": 5.2,
            "bin_end": 5.8,
            "count": 0
           },
           {
            "bin_start": 5.8,
            "bin_end": 6.3999999999999995,
            "count": 0
           },
           {
            "bin_start": 6.3999999999999995,
            "bin_end": 7,
            "count": 1
           }
          ]
         }
        },
        {
         "name": "TrafficType",
         "dtype": "int64",
         "stats": {
          "unique_count": 3,
          "nan_count": 0,
          "min": "2",
          "max": "4",
          "histogram": [
           {
            "bin_start": 2,
            "bin_end": 2.2,
            "count": 2
           },
           {
            "bin_start": 2.2,
            "bin_end": 2.4,
            "count": 0
           },
           {
            "bin_start": 2.4,
            "bin_end": 2.6,
            "count": 0
           },
           {
            "bin_start": 2.6,
            "bin_end": 2.8,
            "count": 0
           },
           {
            "bin_start": 2.8,
            "bin_end": 3,
            "count": 0
           },
           {
            "bin_start": 3,
            "bin_end": 3.2,
            "count": 2
           },
           {
            "bin_start": 3.2,
            "bin_end": 3.4000000000000004,
            "count": 0
           },
           {
            "bin_start": 3.4000000000000004,
            "bin_end": 3.6,
            "count": 0
           },
           {
            "bin_start": 3.6,
            "bin_end": 3.8,
            "count": 0
           },
           {
            "bin_start": 3.8,
            "bin_end": 4,
            "count": 1
           }
          ]
         }
        },
        {
         "name": "VisitorType",
         "dtype": "int64",
         "stats": {
          "unique_count": 2,
          "nan_count": 0,
          "min": "0",
          "max": "1",
          "histogram": [
           {
            "bin_start": 0,
            "bin_end": 0.1,
            "count": 1
           },
           {
            "bin_start": 0.1,
            "bin_end": 0.2,
            "count": 0
           },
           {
            "bin_start": 0.2,
            "bin_end": 0.30000000000000004,
            "count": 0
           },
           {
            "bin_start": 0.30000000000000004,
            "bin_end": 0.4,
            "count": 0
           },
           {
            "bin_start": 0.4,
            "bin_end": 0.5,
            "count": 0
           },
           {
            "bin_start": 0.5,
            "bin_end": 0.6000000000000001,
            "count": 0
           },
           {
            "bin_start": 0.6000000000000001,
            "bin_end": 0.7000000000000001,
            "count": 0
           },
           {
            "bin_start": 0.7000000000000001,
            "bin_end": 0.8,
            "count": 0
           },
           {
            "bin_start": 0.8,
            "bin_end": 0.9,
            "count": 0
           },
           {
            "bin_start": 0.9,
            "bin_end": 1,
            "count": 4
           }
          ]
         }
        },
        {
         "name": "Weekend",
         "dtype": "int64",
         "stats": {
          "unique_count": 2,
          "nan_count": 0,
          "min": "0",
          "max": "1",
          "histogram": [
           {
            "bin_start": 0,
            "bin_end": 0.1,
            "count": 2
           },
           {
            "bin_start": 0.1,
            "bin_end": 0.2,
            "count": 0
           },
           {
            "bin_start": 0.2,
            "bin_end": 0.30000000000000004,
            "count": 0
           },
           {
            "bin_start": 0.30000000000000004,
            "bin_end": 0.4,
            "count": 0
           },
           {
            "bin_start": 0.4,
            "bin_end": 0.5,
            "count": 0
           },
           {
            "bin_start": 0.5,
            "bin_end": 0.6000000000000001,
            "count": 0
           },
           {
            "bin_start": 0.6000000000000001,
            "bin_end": 0.7000000000000001,
            "count": 0
           },
           {
            "bin_start": 0.7000000000000001,
            "bin_end": 0.8,
            "count": 0
           },
           {
            "bin_start": 0.8,
            "bin_end": 0.9,
            "count": 0
           },
           {
            "bin_start": 0.9,
            "bin_end": 1,
            "count": 3
           }
          ]
         }
        },
        {
         "name": "_deepnote_index_column",
         "dtype": "int64"
        }
       ],
       "rows_top": [
        {
         "Administrative": 0,
         "Administrative_Duration": 0,
         "Informational": 0,
         "Informational_Duration": 0,
         "ProductRelated": 16,
         "ProductRelated_Duration": 534.9166667,
         "BounceRates": 0,
         "ExitRates": 0.02125,
         "PageValues": 0,
         "SpecialDay": 0,
         "Month": "May",
         "OperatingSystems": 2,
         "Browser": 2,
         "Region": 7,
         "TrafficType": 3,
         "VisitorType": 1,
         "Weekend": 0,
         "_deepnote_index_column": 2509
        },
        {
         "Administrative": 7,
         "Administrative_Duration": 170.5,
         "Informational": 3,
         "Informational_Duration": 161.5,
         "ProductRelated": 114,
         "ProductRelated_Duration": 3494.831225,
         "BounceRates": 0.003601695,
         "ExitRates": 0.018762198,
         "PageValues": 0,
         "SpecialDay": 0,
         "Month": "Dec",
         "OperatingSystems": 2,
         "Browser": 10,
         "Region": 1,
         "TrafficType": 2,
         "VisitorType": 1,
         "Weekend": 0,
         "_deepnote_index_column": 11116
        },
        {
         "Administrative": 5,
         "Administrative_Duration": 91,
         "Informational": 2,
         "Informational_Duration": 232.8,
         "ProductRelated": 246,
         "ProductRelated_Duration": 9227.371429,
         "BounceRates": 0.006425703,
         "ExitRates": 0.024959839,
         "PageValues": 0,
         "SpecialDay": 0,
         "Month": "Oct",
         "OperatingSystems": 4,
         "Browser": 1,
         "Region": 4,
         "TrafficType": 3,
         "VisitorType": 1,
         "Weekend": 1,
         "_deepnote_index_column": 7292
        },
        {
         "Administrative": 6,
         "Administrative_Duration": 90.6,
         "Informational": 0,
         "Informational_Duration": 0,
         "ProductRelated": 10,
         "ProductRelated_Duration": 384.8,
         "BounceRates": 0,
         "ExitRates": 0.015384615,
         "PageValues": 0,
         "SpecialDay": 0,
         "Month": "Aug",
         "OperatingSystems": 1,
         "Browser": 2,
         "Region": 3,
         "TrafficType": 2,
         "VisitorType": 0,
         "Weekend": 1,
         "_deepnote_index_column": 7394
        },
        {
         "Administrative": 0,
         "Administrative_Duration": 0,
         "Informational": 1,
         "Informational_Duration": 38,
         "ProductRelated": 10,
         "ProductRelated_Duration": 311,
         "BounceRates": 0.018181818,
         "ExitRates": 0.036363636,
         "PageValues": 0,
         "SpecialDay": 0,
         "Month": "May",
         "OperatingSystems": 2,
         "Browser": 10,
         "Region": 2,
         "TrafficType": 4,
         "VisitorType": 1,
         "Weekend": 1,
         "_deepnote_index_column": 4946
        }
       ],
       "rows_bottom": null
      },
      "text/plain": "       Administrative  Administrative_Duration  Informational  \\\n2509                0                      0.0              0   \n11116               7                    170.5              3   \n7292                5                     91.0              2   \n7394                6                     90.6              0   \n4946                0                      0.0              1   \n\n       Informational_Duration  ProductRelated  ProductRelated_Duration  \\\n2509                      0.0              16               534.916667   \n11116                   161.5             114              3494.831225   \n7292                    232.8             246              9227.371429   \n7394                      0.0              10               384.800000   \n4946                     38.0              10               311.000000   \n\n       BounceRates  ExitRates  PageValues  SpecialDay Month  OperatingSystems  \\\n2509      0.000000   0.021250         0.0         0.0   May                 2   \n11116     0.003602   0.018762         0.0         0.0   Dec                 2   \n7292      0.006426   0.024960         0.0         0.0   Oct                 4   \n7394      0.000000   0.015385         0.0         0.0   Aug                 1   \n4946      0.018182   0.036364         0.0         0.0   May                 2   \n\n       Browser  Region  TrafficType  VisitorType  Weekend  \n2509         2       7            3            1        0  \n11116       10       1            2            1        0  \n7292         1       4            3            1        1  \n7394         2       3            2            0        1  \n4946        10       2            4            1        1  ",
      "text/html": "<div>\n<style scoped>\n    .dataframe tbody tr th:only-of-type {\n        vertical-align: middle;\n    }\n\n    .dataframe tbody tr th {\n        vertical-align: top;\n    }\n\n    .dataframe thead th {\n        text-align: right;\n    }\n</style>\n<table border=\"1\" class=\"dataframe\">\n  <thead>\n    <tr style=\"text-align: right;\">\n      <th></th>\n      <th>Administrative</th>\n      <th>Administrative_Duration</th>\n      <th>Informational</th>\n      <th>Informational_Duration</th>\n      <th>ProductRelated</th>\n      <th>ProductRelated_Duration</th>\n      <th>BounceRates</th>\n      <th>ExitRates</th>\n      <th>PageValues</th>\n      <th>SpecialDay</th>\n      <th>Month</th>\n      <th>OperatingSystems</th>\n      <th>Browser</th>\n      <th>Region</th>\n      <th>TrafficType</th>\n      <th>VisitorType</th>\n      <th>Weekend</th>\n    </tr>\n  </thead>\n  <tbody>\n    <tr>\n      <th>2509</th>\n      <td>0</td>\n      <td>0.0</td>\n      <td>0</td>\n      <td>0.0</td>\n      <td>16</td>\n      <td>534.916667</td>\n      <td>0.000000</td>\n      <td>0.021250</td>\n      <td>0.0</td>\n      <td>0.0</td>\n      <td>May</td>\n      <td>2</td>\n      <td>2</td>\n      <td>7</td>\n      <td>3</td>\n      <td>1</td>\n      <td>0</td>\n    </tr>\n    <tr>\n      <th>11116</th>\n      <td>7</td>\n      <td>170.5</td>\n      <td>3</td>\n      <td>161.5</td>\n      <td>114</td>\n      <td>3494.831225</td>\n      <td>0.003602</td>\n      <td>0.018762</td>\n      <td>0.0</td>\n      <td>0.0</td>\n      <td>Dec</td>\n      <td>2</td>\n      <td>10</td>\n      <td>1</td>\n      <td>2</td>\n      <td>1</td>\n      <td>0</td>\n    </tr>\n    <tr>\n      <th>7292</th>\n      <td>5</td>\n      <td>91.0</td>\n      <td>2</td>\n      <td>232.8</td>\n      <td>246</td>\n      <td>9227.371429</td>\n      <td>0.006426</td>\n      <td>0.024960</td>\n      <td>0.0</td>\n      <td>0.0</td>\n      <td>Oct</td>\n      <td>4</td>\n      <td>1</td>\n      <td>4</td>\n      <td>3</td>\n      <td>1</td>\n      <td>1</td>\n    </tr>\n    <tr>\n      <th>7394</th>\n      <td>6</td>\n      <td>90.6</td>\n      <td>0</td>\n      <td>0.0</td>\n      <td>10</td>\n      <td>384.800000</td>\n      <td>0.000000</td>\n      <td>0.015385</td>\n      <td>0.0</td>\n      <td>0.0</td>\n      <td>Aug</td>\n      <td>1</td>\n      <td>2</td>\n      <td>3</td>\n      <td>2</td>\n      <td>0</td>\n      <td>1</td>\n    </tr>\n    <tr>\n      <th>4946</th>\n      <td>0</td>\n      <td>0.0</td>\n      <td>1</td>\n      <td>38.0</td>\n      <td>10</td>\n      <td>311.000000</td>\n      <td>0.018182</td>\n      <td>0.036364</td>\n      <td>0.0</td>\n      <td>0.0</td>\n      <td>May</td>\n      <td>2</td>\n      <td>10</td>\n      <td>2</td>\n      <td>4</td>\n      <td>1</td>\n      <td>1</td>\n    </tr>\n  </tbody>\n</table>\n</div>"
     },
     "metadata": {}
    }
   ],
   "execution_count": 70
  },
  {
   "cell_type": "code",
   "source": "from sklearn.ensemble import RandomForestRegressor\nfrom sklearn.metrics import mean_absolute_error\n\n# function for comparing different approaches\ndef score_dataset(X_train, X_valid, y_train, y_valid):\n    model = RandomForestRegressor(n_estimators=100, random_state=0)\n    model.fit(X_train, y_train)\n    preds = model.predict(X_valid)\n    return mean_absolute_error(y_valid, preds)",
   "metadata": {
    "tags": [],
    "cell_id": "00011-fbdf8d2c-d343-488e-b8f2-f75652c64cf0",
    "deepnote_to_be_reexecuted": false,
    "source_hash": "b4beb6f6",
    "execution_start": 1620983432125,
    "execution_millis": 219,
    "deepnote_cell_type": "code"
   },
   "outputs": [],
   "execution_count": 80
  },
  {
   "cell_type": "code",
   "source": "drop_X_train = X_train.select_dtypes(exclude=['object'])\ndrop_X_valid = X_valid.select_dtypes(exclude=['object'])",
   "metadata": {
    "tags": [],
    "cell_id": "00012-1ffbeaf8-d66c-4bf3-b39d-a7cd33c15be7",
    "deepnote_to_be_reexecuted": false,
    "source_hash": "d77732ce",
    "execution_start": 1620983453626,
    "execution_millis": 1,
    "deepnote_cell_type": "code"
   },
   "outputs": [],
   "execution_count": 81
  },
  {
   "cell_type": "code",
   "source": "print(\"MAE from Approach 1 (Drop categorical variables):\")\nprint(score_dataset(drop_X_train, drop_X_valid, y_train, y_valid))",
   "metadata": {
    "tags": [],
    "cell_id": "00013-288b4ab9-c962-4afc-8325-b41f8ce5460c",
    "deepnote_to_be_reexecuted": false,
    "source_hash": "574ec87",
    "execution_start": 1620983464405,
    "execution_millis": 3738,
    "deepnote_cell_type": "code"
   },
   "outputs": [
    {
     "name": "stdout",
     "text": "MAE from Approach 1 (Drop categorical variables):\n0.15358880778588807\n",
     "output_type": "stream"
    }
   ],
   "execution_count": 82
  },
  {
   "cell_type": "code",
   "source": "",
   "metadata": {
    "tags": [],
    "cell_id": "00013-41d96760-228b-454b-9fbf-710fefdcdbf1",
    "deepnote_to_be_reexecuted": false,
    "source_hash": "b623e53d",
    "execution_start": 1620983538514,
    "execution_millis": 0,
    "deepnote_cell_type": "code"
   },
   "outputs": [],
   "execution_count": 82
  },
  {
   "cell_type": "code",
   "source": "visitors = df['VisitorType'].unique()\nvisitors",
   "metadata": {
    "tags": [],
    "cell_id": "00012-2bade7f7-0e68-4961-8831-5239a17a5ae2",
    "deepnote_to_be_reexecuted": false,
    "source_hash": "93a607fc",
    "execution_start": 1620983238908,
    "execution_millis": 6,
    "deepnote_cell_type": "code"
   },
   "outputs": [
    {
     "output_type": "execute_result",
     "execution_count": 79,
     "data": {
      "text/plain": "array([1, 0, 2])"
     },
     "metadata": {}
    }
   ],
   "execution_count": 79
  },
  {
   "cell_type": "code",
   "source": "plt.figure(figsize=(7,5))\nplt.title(\"VisitorType\",size=18)\ndf.Revenue.value_counts().plot.bar(color=['darkgreen','orange','gold'])",
   "metadata": {
    "tags": [],
    "cell_id": "00013-65797b7a-23bd-475d-af78-b7315c8f7fff",
    "deepnote_to_be_reexecuted": false,
    "source_hash": "44a25382",
    "execution_start": 1620983883524,
    "execution_millis": 113,
    "deepnote_cell_type": "code"
   },
   "outputs": [
    {
     "output_type": "execute_result",
     "execution_count": 85,
     "data": {
      "text/plain": "<AxesSubplot:title={'center':'VisitorType'}>"
     },
     "metadata": {}
    },
    {
     "data": {
      "text/plain": "<Figure size 504x360 with 1 Axes>",
      "image/png": "[encoded data removed]"
     },
     "metadata": {
      "needs_background": "light",
      "image/png": {
       "width": 443,
       "height": 319
      }
     },
     "output_type": "display_data"
    }
   ],
   "execution_count": 85
  },
  {
   "cell_type": "code",
   "source": "month = df['Month'].unique()\nmonth",
   "metadata": {
    "tags": [],
    "cell_id": "00017-af95c4e7-064f-4aee-ba37-19806351fd65",
    "deepnote_to_be_reexecuted": false,
    "source_hash": "60d710d3",
    "execution_start": 1620984563393,
    "execution_millis": 13,
    "deepnote_cell_type": "code"
   },
   "outputs": [
    {
     "output_type": "execute_result",
     "execution_count": 99,
     "data": {
      "text/plain": "array(['Feb', 'Mar', 'May', 'Oct', 'June', 'Jul', 'Aug', 'Nov', 'Sep',\n       'Dec'], dtype=object)"
     },
     "metadata": {}
    }
   ],
   "execution_count": 99
  },
  {
   "cell_type": "code",
   "source": "sns.set_theme(style=\"whitegrid\")\n\n\ncmap = sns.cubehelix_palette(rot=-.2, as_cmap=True)\ng = sns.relplot(\n    data=df,\n    x=\"distance\", y=\"Revenue\",\n    hue=\"Month\", size=\"mass\",\n    palette=cmap, sizes=(10, 200),\n)\ng.set(xscale=\"log\", yscale=\"log\")\ng.ax.xaxis.grid(True, \"minor\", linewidth=.25)\ng.ax.yaxis.grid(True, \"minor\", linewidth=.25)\ng.despine(left=True, bottom=True)",
   "metadata": {
    "tags": [],
    "cell_id": "00018-a423227e-8cc8-4ba4-8fe6-d94e51a8e594",
    "deepnote_to_be_reexecuted": false,
    "source_hash": "509f3210",
    "execution_start": 1620985395231,
    "execution_millis": 42,
    "deepnote_cell_type": "code"
   },
   "outputs": [
    {
     "output_type": "error",
     "ename": "ValueError",
     "evalue": "Could not interpret value `distance` for parameter `x`",
     "traceback": [
      "\u001b[0;31m---------------------------------------------------------------------------\u001b[0m",
      "\u001b[0;31mValueError\u001b[0m                                Traceback (most recent call last)",
      "\u001b[0;32m<ipython-input-114-dbaf1c57d05f>\u001b[0m in \u001b[0;36m<module>\u001b[0;34m\u001b[0m\n\u001b[1;32m      7\u001b[0m     \u001b[0mx\u001b[0m\u001b[0;34m=\u001b[0m\u001b[0;34m\"distance\"\u001b[0m\u001b[0;34m,\u001b[0m \u001b[0my\u001b[0m\u001b[0;34m=\u001b[0m\u001b[0;34m\"Revenue\"\u001b[0m\u001b[0;34m,\u001b[0m\u001b[0;34m\u001b[0m\u001b[0;34m\u001b[0m\u001b[0m\n\u001b[1;32m      8\u001b[0m     \u001b[0mhue\u001b[0m\u001b[0;34m=\u001b[0m\u001b[0;34m\"Month\"\u001b[0m\u001b[0;34m,\u001b[0m \u001b[0msize\u001b[0m\u001b[0;34m=\u001b[0m\u001b[0;34m\"mass\"\u001b[0m\u001b[0;34m,\u001b[0m\u001b[0;34m\u001b[0m\u001b[0;34m\u001b[0m\u001b[0m\n\u001b[0;32m----> 9\u001b[0;31m     \u001b[0mpalette\u001b[0m\u001b[0;34m=\u001b[0m\u001b[0mcmap\u001b[0m\u001b[0;34m,\u001b[0m\u001b[0;34m\u001b[0m\u001b[0;34m\u001b[0m\u001b[0m\n\u001b[0m\u001b[1;32m     10\u001b[0m )\n\u001b[1;32m     11\u001b[0m \u001b[0mg\u001b[0m\u001b[0;34m.\u001b[0m\u001b[0mset\u001b[0m\u001b[0;34m(\u001b[0m\u001b[0mxscale\u001b[0m\u001b[0;34m=\u001b[0m\u001b[0;34m\"log\"\u001b[0m\u001b[0;34m,\u001b[0m \u001b[0myscale\u001b[0m\u001b[0;34m=\u001b[0m\u001b[0;34m\"log\"\u001b[0m\u001b[0;34m)\u001b[0m\u001b[0;34m\u001b[0m\u001b[0;34m\u001b[0m\u001b[0m\n",
      "\u001b[0;32m/shared-libs/python3.7/py/lib/python3.7/site-packages/seaborn/_decorators.py\u001b[0m in \u001b[0;36minner_f\u001b[0;34m(*args, **kwargs)\u001b[0m\n\u001b[1;32m     44\u001b[0m             )\n\u001b[1;32m     45\u001b[0m         \u001b[0mkwargs\u001b[0m\u001b[0;34m.\u001b[0m\u001b[0mupdate\u001b[0m\u001b[0;34m(\u001b[0m\u001b[0;34m{\u001b[0m\u001b[0mk\u001b[0m\u001b[0;34m:\u001b[0m \u001b[0marg\u001b[0m \u001b[0;32mfor\u001b[0m \u001b[0mk\u001b[0m\u001b[0;34m,\u001b[0m \u001b[0marg\u001b[0m \u001b[0;32min\u001b[0m \u001b[0mzip\u001b[0m\u001b[0;34m(\u001b[0m\u001b[0msig\u001b[0m\u001b[0;34m.\u001b[0m\u001b[0mparameters\u001b[0m\u001b[0;34m,\u001b[0m \u001b[0margs\u001b[0m\u001b[0;34m)\u001b[0m\u001b[0;34m}\u001b[0m\u001b[0;34m)\u001b[0m\u001b[0;34m\u001b[0m\u001b[0;34m\u001b[0m\u001b[0m\n\u001b[0;32m---> 46\u001b[0;31m         \u001b[0;32mreturn\u001b[0m \u001b[0mf\u001b[0m\u001b[0;34m(\u001b[0m\u001b[0;34m**\u001b[0m\u001b[0mkwargs\u001b[0m\u001b[0;34m)\u001b[0m\u001b[0;34m\u001b[0m\u001b[0;34m\u001b[0m\u001b[0m\n\u001b[0m\u001b[1;32m     47\u001b[0m     \u001b[0;32mreturn\u001b[0m \u001b[0minner_f\u001b[0m\u001b[0;34m\u001b[0m\u001b[0;34m\u001b[0m\u001b[0m\n\u001b[1;32m     48\u001b[0m \u001b[0;34m\u001b[0m\u001b[0m\n",
      "\u001b[0;32m/shared-libs/python3.7/py/lib/python3.7/site-packages/seaborn/relational.py\u001b[0m in \u001b[0;36mrelplot\u001b[0;34m(x, y, hue, size, style, data, row, col, col_wrap, row_order, col_order, palette, hue_order, hue_norm, sizes, size_order, size_norm, markers, dashes, style_order, legend, kind, height, aspect, facet_kws, units, **kwargs)\u001b[0m\n\u001b[1;32m    941\u001b[0m         \u001b[0mdata\u001b[0m\u001b[0;34m=\u001b[0m\u001b[0mdata\u001b[0m\u001b[0;34m,\u001b[0m\u001b[0;34m\u001b[0m\u001b[0;34m\u001b[0m\u001b[0m\n\u001b[1;32m    942\u001b[0m         \u001b[0mvariables\u001b[0m\u001b[0;34m=\u001b[0m\u001b[0mplotter\u001b[0m\u001b[0;34m.\u001b[0m\u001b[0mget_semantics\u001b[0m\u001b[0;34m(\u001b[0m\u001b[0mlocals\u001b[0m\u001b[0;34m(\u001b[0m\u001b[0;34m)\u001b[0m\u001b[0;34m)\u001b[0m\u001b[0;34m,\u001b[0m\u001b[0;34m\u001b[0m\u001b[0;34m\u001b[0m\u001b[0m\n\u001b[0;32m--> 943\u001b[0;31m         \u001b[0mlegend\u001b[0m\u001b[0;34m=\u001b[0m\u001b[0mlegend\u001b[0m\u001b[0;34m,\u001b[0m\u001b[0;34m\u001b[0m\u001b[0;34m\u001b[0m\u001b[0m\n\u001b[0m\u001b[1;32m    944\u001b[0m     )\n\u001b[1;32m    945\u001b[0m     \u001b[0mp\u001b[0m\u001b[0;34m.\u001b[0m\u001b[0mmap_hue\u001b[0m\u001b[0;34m(\u001b[0m\u001b[0mpalette\u001b[0m\u001b[0;34m=\u001b[0m\u001b[0mpalette\u001b[0m\u001b[0;34m,\u001b[0m \u001b[0morder\u001b[0m\u001b[0;34m=\u001b[0m\u001b[0mhue_order\u001b[0m\u001b[0;34m,\u001b[0m \u001b[0mnorm\u001b[0m\u001b[0;34m=\u001b[0m\u001b[0mhue_norm\u001b[0m\u001b[0;34m)\u001b[0m\u001b[0;34m\u001b[0m\u001b[0;34m\u001b[0m\u001b[0m\n",
      "\u001b[0;32m/shared-libs/python3.7/py/lib/python3.7/site-packages/seaborn/relational.py\u001b[0m in \u001b[0;36m__init__\u001b[0;34m(self, data, variables, x_bins, y_bins, estimator, ci, n_boot, alpha, x_jitter, y_jitter, legend)\u001b[0m\n\u001b[1;32m    585\u001b[0m         )\n\u001b[1;32m    586\u001b[0m \u001b[0;34m\u001b[0m\u001b[0m\n\u001b[0;32m--> 587\u001b[0;31m         \u001b[0msuper\u001b[0m\u001b[0;34m(\u001b[0m\u001b[0;34m)\u001b[0m\u001b[0;34m.\u001b[0m\u001b[0m__init__\u001b[0m\u001b[0;34m(\u001b[0m\u001b[0mdata\u001b[0m\u001b[0;34m=\u001b[0m\u001b[0mdata\u001b[0m\u001b[0;34m,\u001b[0m \u001b[0mvariables\u001b[0m\u001b[0;34m=\u001b[0m\u001b[0mvariables\u001b[0m\u001b[0;34m)\u001b[0m\u001b[0;34m\u001b[0m\u001b[0;34m\u001b[0m\u001b[0m\n\u001b[0m\u001b[1;32m    588\u001b[0m \u001b[0;34m\u001b[0m\u001b[0m\n\u001b[1;32m    589\u001b[0m         \u001b[0mself\u001b[0m\u001b[0;34m.\u001b[0m\u001b[0malpha\u001b[0m \u001b[0;34m=\u001b[0m \u001b[0malpha\u001b[0m\u001b[0;34m\u001b[0m\u001b[0;34m\u001b[0m\u001b[0m\n",
      "\u001b[0;32m/shared-libs/python3.7/py/lib/python3.7/site-packages/seaborn/_core.py\u001b[0m in \u001b[0;36m__init__\u001b[0;34m(self, data, variables)\u001b[0m\n\u001b[1;32m    602\u001b[0m     \u001b[0;32mdef\u001b[0m \u001b[0m__init__\u001b[0m\u001b[0;34m(\u001b[0m\u001b[0mself\u001b[0m\u001b[0;34m,\u001b[0m \u001b[0mdata\u001b[0m\u001b[0;34m=\u001b[0m\u001b[0;32mNone\u001b[0m\u001b[0;34m,\u001b[0m \u001b[0mvariables\u001b[0m\u001b[0;34m=\u001b[0m\u001b[0;34m{\u001b[0m\u001b[0;34m}\u001b[0m\u001b[0;34m)\u001b[0m\u001b[0;34m:\u001b[0m\u001b[0;34m\u001b[0m\u001b[0;34m\u001b[0m\u001b[0m\n\u001b[1;32m    603\u001b[0m \u001b[0;34m\u001b[0m\u001b[0m\n\u001b[0;32m--> 604\u001b[0;31m         \u001b[0mself\u001b[0m\u001b[0;34m.\u001b[0m\u001b[0massign_variables\u001b[0m\u001b[0;34m(\u001b[0m\u001b[0mdata\u001b[0m\u001b[0;34m,\u001b[0m \u001b[0mvariables\u001b[0m\u001b[0;34m)\u001b[0m\u001b[0;34m\u001b[0m\u001b[0;34m\u001b[0m\u001b[0m\n\u001b[0m\u001b[1;32m    605\u001b[0m \u001b[0;34m\u001b[0m\u001b[0m\n\u001b[1;32m    606\u001b[0m         \u001b[0;32mfor\u001b[0m \u001b[0mvar\u001b[0m\u001b[0;34m,\u001b[0m \u001b[0mcls\u001b[0m \u001b[0;32min\u001b[0m \u001b[0mself\u001b[0m\u001b[0;34m.\u001b[0m\u001b[0m_semantic_mappings\u001b[0m\u001b[0;34m.\u001b[0m\u001b[0mitems\u001b[0m\u001b[0;34m(\u001b[0m\u001b[0;34m)\u001b[0m\u001b[0;34m:\u001b[0m\u001b[0;34m\u001b[0m\u001b[0;34m\u001b[0m\u001b[0m\n",
      "\u001b[0;32m/shared-libs/python3.7/py/lib/python3.7/site-packages/seaborn/_core.py\u001b[0m in \u001b[0;36massign_variables\u001b[0;34m(self, data, variables)\u001b[0m\n\u001b[1;32m    666\u001b[0m             \u001b[0mself\u001b[0m\u001b[0;34m.\u001b[0m\u001b[0minput_format\u001b[0m \u001b[0;34m=\u001b[0m \u001b[0;34m\"long\"\u001b[0m\u001b[0;34m\u001b[0m\u001b[0;34m\u001b[0m\u001b[0m\n\u001b[1;32m    667\u001b[0m             plot_data, variables = self._assign_variables_longform(\n\u001b[0;32m--> 668\u001b[0;31m                 \u001b[0mdata\u001b[0m\u001b[0;34m,\u001b[0m \u001b[0;34m**\u001b[0m\u001b[0mvariables\u001b[0m\u001b[0;34m,\u001b[0m\u001b[0;34m\u001b[0m\u001b[0;34m\u001b[0m\u001b[0m\n\u001b[0m\u001b[1;32m    669\u001b[0m             )\n\u001b[1;32m    670\u001b[0m \u001b[0;34m\u001b[0m\u001b[0m\n",
      "\u001b[0;32m/shared-libs/python3.7/py/lib/python3.7/site-packages/seaborn/_core.py\u001b[0m in \u001b[0;36m_assign_variables_longform\u001b[0;34m(self, data, **kwargs)\u001b[0m\n\u001b[1;32m    900\u001b[0m \u001b[0;34m\u001b[0m\u001b[0m\n\u001b[1;32m    901\u001b[0m                 \u001b[0merr\u001b[0m \u001b[0;34m=\u001b[0m \u001b[0;34mf\"Could not interpret value `{val}` for parameter `{key}`\"\u001b[0m\u001b[0;34m\u001b[0m\u001b[0;34m\u001b[0m\u001b[0m\n\u001b[0;32m--> 902\u001b[0;31m                 \u001b[0;32mraise\u001b[0m \u001b[0mValueError\u001b[0m\u001b[0;34m(\u001b[0m\u001b[0merr\u001b[0m\u001b[0;34m)\u001b[0m\u001b[0;34m\u001b[0m\u001b[0;34m\u001b[0m\u001b[0m\n\u001b[0m\u001b[1;32m    903\u001b[0m \u001b[0;34m\u001b[0m\u001b[0m\n\u001b[1;32m    904\u001b[0m             \u001b[0;32melse\u001b[0m\u001b[0;34m:\u001b[0m\u001b[0;34m\u001b[0m\u001b[0;34m\u001b[0m\u001b[0m\n",
      "\u001b[0;31mValueError\u001b[0m: Could not interpret value `distance` for parameter `x`"
     ]
    }
   ],
   "execution_count": 114
  },
  {
   "cell_type": "code",
   "source": "plt.figure(figsize=[12,8])\nsns.set_theme(style=\"darkgrid\")\nsns.lineplot('VisitorType', 'Month', hue = 'Revenue', data=df)",
   "metadata": {
    "tags": [],
    "cell_id": "00017-9db6035f-a50e-4ffe-8604-c60717e894eb",
    "deepnote_to_be_reexecuted": false,
    "source_hash": "68e3d18d",
    "execution_start": 1620984630906,
    "execution_millis": 583,
    "deepnote_cell_type": "code"
   },
   "outputs": [
    {
     "name": "stderr",
     "text": "/shared-libs/python3.7/py/lib/python3.7/site-packages/seaborn/_decorators.py:43: FutureWarning: Pass the following variables as keyword args: x, y. From version 0.12, the only valid positional argument will be `data`, and passing other arguments without an explicit keyword will result in an error or misinterpretation.\n  FutureWarning\n",
     "output_type": "stream"
    },
    {
     "output_type": "execute_result",
     "execution_count": 102,
     "data": {
      "text/plain": "<AxesSubplot:xlabel='VisitorType', ylabel='Month'>"
     },
     "metadata": {}
    },
    {
     "data": {
      "text/plain": "<Figure size 864x576 with 1 Axes>",
      "image/png": "[encoded data removed]"
     },
     "metadata": {
      "image/png": {
       "width": 732,
       "height": 485
      }
     },
     "output_type": "display_data"
    }
   ],
   "execution_count": 102
  },
  {
   "cell_type": "code",
   "source": "plt.figure(figsize=(7,5))\ndf['Month'].hist(bins = 80, color = 'teal')\nplt.title(\"MONTH\",size=20)",
   "metadata": {
    "tags": [],
    "cell_id": "00017-8d0b147a-3ab6-4a49-9f24-c75699277ca6",
    "deepnote_to_be_reexecuted": false,
    "source_hash": "ffb0cb43",
    "execution_start": 1620984191578,
    "execution_millis": 344,
    "deepnote_cell_type": "code"
   },
   "outputs": [
    {
     "output_type": "execute_result",
     "execution_count": 92,
     "data": {
      "text/plain": "Text(0.5, 1.0, 'MONTH')"
     },
     "metadata": {}
    },
    {
     "data": {
      "text/plain": "<Figure size 504x360 with 1 Axes>",
      "image/png": "[encoded data removed]"
     },
     "metadata": {
      "needs_background": "light",
      "image/png": {
       "width": 437,
       "height": 324
      }
     },
     "output_type": "display_data"
    }
   ],
   "execution_count": 92
  },
  {
   "cell_type": "code",
   "source": "",
   "metadata": {
    "tags": [],
    "cell_id": "00021-1afc2dc2-1333-4336-beb7-e6db86165f21",
    "deepnote_cell_type": "code"
   },
   "outputs": [],
   "execution_count": null
  },
  {
   "cell_type": "code",
   "source": "plt.title('Test')\nplt.hist([df.Month, df.Revenue, df.VisitorType], bins=, stacked=True)\nplt.legend('Month', 'Revenue', 'Visitor type')",
   "metadata": {
    "tags": [],
    "cell_id": "00018-3fc80a13-f906-4672-a2fb-b60bd502b385",
    "deepnote_to_be_reexecuted": false,
    "source_hash": "f2ca425d",
    "execution_start": 1620985549470,
    "execution_millis": 4,
    "deepnote_cell_type": "code"
   },
   "outputs": [
    {
     "output_type": "error",
     "ename": "SyntaxError",
     "evalue": "invalid syntax (<ipython-input-116-d9f12fc98379>, line 2)",
     "traceback": [
      "\u001b[0;36m  File \u001b[0;32m\"<ipython-input-116-d9f12fc98379>\"\u001b[0;36m, line \u001b[0;32m2\u001b[0m\n\u001b[0;31m    plt.hist([df.Month, df.Revenue, df.VisitorType], bins=, stacked=True)\u001b[0m\n\u001b[0m                                                          ^\u001b[0m\n\u001b[0;31mSyntaxError\u001b[0m\u001b[0;31m:\u001b[0m invalid syntax\n"
     ]
    }
   ],
   "execution_count": 116
  },
  {
   "cell_type": "markdown",
   "source": "<a style='text-decoration:none;line-height:16px;display:flex;color:#5B5B62;padding:10px;justify-content:end;' href='https://deepnote.com?utm_source=created-in-deepnote-cell&projectId=7a3f5c5d-f517-4a24-98f5-3e672aa664cd' target=\"_blank\">\n<img alt='Created in deepnote.com' style='display:inline;max-height:16px;margin:0px;margin-right:7.5px;' src='data:image/svg+xml;base64,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' > </img>\nCreated in <span style='font-weight:600;margin-left:4px;'>Deepnote</span></a>",
   "metadata": {
    "tags": [],
    "created_in_deepnote_cell": true,
    "deepnote_cell_type": "markdown"
   }
  }
 ],
 "nbformat": 4,
 "nbformat_minor": 2,
 "metadata": {
  "orig_nbformat": 2,
  "deepnote": {
   "is_reactive": false
  },
  "deepnote_notebook_id": "7c2df1f0-3a81-47c1-bb47-4e1dd19688b5",
  "deepnote_execution_queue": []
 }
}